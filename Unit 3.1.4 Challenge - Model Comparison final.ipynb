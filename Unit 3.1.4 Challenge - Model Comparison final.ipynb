{
 "cells": [
  {
   "cell_type": "code",
   "execution_count": 125,
   "metadata": {
    "collapsed": true
   },
   "outputs": [],
   "source": [
    "import numpy as np\n",
    "import pandas as pd\n",
    "import math\n",
    "from matplotlib import pyplot as plt\n",
    "from sklearn import linear_model\n",
    "from sklearn import neighbors\n",
    "from sklearn.model_selection import cross_val_score\n",
    "from sklearn.preprocessing import StandardScaler\n",
    "from sklearn.neighbors import KNeighborsRegressor\n",
    "from sklearn.model_selection import cross_val_score\n",
    "from sklearn import preprocessing\n",
    "import seaborn as sns\n",
    "%matplotlib inline\n",
    "pd.options.display.float_format = '{:.3f}'.format\n",
    "\n",
    "# Suppress annoying harmless error.\n",
    "import warnings\n",
    "warnings.filterwarnings(action=\"ignore\", module=\"scipy\", message=\"^internal gelsd\")"
   ]
  },
  {
   "cell_type": "markdown",
   "metadata": {},
   "source": [
    "## Prepping the data.\n",
    "\n",
    "I will be using a dataset on cereal, with nutritional facts for 77 different brands. My outcome variable will be rating."
   ]
  },
  {
   "cell_type": "code",
   "execution_count": 126,
   "metadata": {
    "collapsed": true
   },
   "outputs": [],
   "source": [
    "cereal = pd.read_csv('cereal.csv')"
   ]
  },
  {
   "cell_type": "code",
   "execution_count": 127,
   "metadata": {},
   "outputs": [
    {
     "data": {
      "text/html": [
       "<div>\n",
       "<style>\n",
       "    .dataframe thead tr:only-child th {\n",
       "        text-align: right;\n",
       "    }\n",
       "\n",
       "    .dataframe thead th {\n",
       "        text-align: left;\n",
       "    }\n",
       "\n",
       "    .dataframe tbody tr th {\n",
       "        vertical-align: top;\n",
       "    }\n",
       "</style>\n",
       "<table border=\"1\" class=\"dataframe\">\n",
       "  <thead>\n",
       "    <tr style=\"text-align: right;\">\n",
       "      <th></th>\n",
       "      <th>name</th>\n",
       "      <th>mfr</th>\n",
       "      <th>type</th>\n",
       "      <th>calories</th>\n",
       "      <th>protein</th>\n",
       "      <th>fat</th>\n",
       "      <th>sodium</th>\n",
       "      <th>fiber</th>\n",
       "      <th>carbo</th>\n",
       "      <th>sugars</th>\n",
       "      <th>potass</th>\n",
       "      <th>vitamins</th>\n",
       "      <th>shelf</th>\n",
       "      <th>weight</th>\n",
       "      <th>cups</th>\n",
       "      <th>rating</th>\n",
       "    </tr>\n",
       "  </thead>\n",
       "  <tbody>\n",
       "    <tr>\n",
       "      <th>0</th>\n",
       "      <td>100% Bran</td>\n",
       "      <td>N</td>\n",
       "      <td>C</td>\n",
       "      <td>70</td>\n",
       "      <td>4</td>\n",
       "      <td>1</td>\n",
       "      <td>130</td>\n",
       "      <td>10.000</td>\n",
       "      <td>5.000</td>\n",
       "      <td>6</td>\n",
       "      <td>280</td>\n",
       "      <td>25</td>\n",
       "      <td>3</td>\n",
       "      <td>1.000</td>\n",
       "      <td>0.330</td>\n",
       "      <td>68.403</td>\n",
       "    </tr>\n",
       "    <tr>\n",
       "      <th>1</th>\n",
       "      <td>100% Natural Bran</td>\n",
       "      <td>Q</td>\n",
       "      <td>C</td>\n",
       "      <td>120</td>\n",
       "      <td>3</td>\n",
       "      <td>5</td>\n",
       "      <td>15</td>\n",
       "      <td>2.000</td>\n",
       "      <td>8.000</td>\n",
       "      <td>8</td>\n",
       "      <td>135</td>\n",
       "      <td>0</td>\n",
       "      <td>3</td>\n",
       "      <td>1.000</td>\n",
       "      <td>1.000</td>\n",
       "      <td>33.984</td>\n",
       "    </tr>\n",
       "    <tr>\n",
       "      <th>2</th>\n",
       "      <td>All-Bran</td>\n",
       "      <td>K</td>\n",
       "      <td>C</td>\n",
       "      <td>70</td>\n",
       "      <td>4</td>\n",
       "      <td>1</td>\n",
       "      <td>260</td>\n",
       "      <td>9.000</td>\n",
       "      <td>7.000</td>\n",
       "      <td>5</td>\n",
       "      <td>320</td>\n",
       "      <td>25</td>\n",
       "      <td>3</td>\n",
       "      <td>1.000</td>\n",
       "      <td>0.330</td>\n",
       "      <td>59.426</td>\n",
       "    </tr>\n",
       "    <tr>\n",
       "      <th>3</th>\n",
       "      <td>All-Bran with Extra Fiber</td>\n",
       "      <td>K</td>\n",
       "      <td>C</td>\n",
       "      <td>50</td>\n",
       "      <td>4</td>\n",
       "      <td>0</td>\n",
       "      <td>140</td>\n",
       "      <td>14.000</td>\n",
       "      <td>8.000</td>\n",
       "      <td>0</td>\n",
       "      <td>330</td>\n",
       "      <td>25</td>\n",
       "      <td>3</td>\n",
       "      <td>1.000</td>\n",
       "      <td>0.500</td>\n",
       "      <td>93.705</td>\n",
       "    </tr>\n",
       "    <tr>\n",
       "      <th>4</th>\n",
       "      <td>Almond Delight</td>\n",
       "      <td>R</td>\n",
       "      <td>C</td>\n",
       "      <td>110</td>\n",
       "      <td>2</td>\n",
       "      <td>2</td>\n",
       "      <td>200</td>\n",
       "      <td>1.000</td>\n",
       "      <td>14.000</td>\n",
       "      <td>8</td>\n",
       "      <td>-1</td>\n",
       "      <td>25</td>\n",
       "      <td>3</td>\n",
       "      <td>1.000</td>\n",
       "      <td>0.750</td>\n",
       "      <td>34.385</td>\n",
       "    </tr>\n",
       "  </tbody>\n",
       "</table>\n",
       "</div>"
      ],
      "text/plain": [
       "                        name mfr type  calories  protein  fat  sodium  fiber  \\\n",
       "0                  100% Bran   N    C        70        4    1     130 10.000   \n",
       "1          100% Natural Bran   Q    C       120        3    5      15  2.000   \n",
       "2                   All-Bran   K    C        70        4    1     260  9.000   \n",
       "3  All-Bran with Extra Fiber   K    C        50        4    0     140 14.000   \n",
       "4             Almond Delight   R    C       110        2    2     200  1.000   \n",
       "\n",
       "   carbo  sugars  potass  vitamins  shelf  weight  cups  rating  \n",
       "0  5.000       6     280        25      3   1.000 0.330  68.403  \n",
       "1  8.000       8     135         0      3   1.000 1.000  33.984  \n",
       "2  7.000       5     320        25      3   1.000 0.330  59.426  \n",
       "3  8.000       0     330        25      3   1.000 0.500  93.705  \n",
       "4 14.000       8      -1        25      3   1.000 0.750  34.385  "
      ]
     },
     "execution_count": 127,
     "metadata": {},
     "output_type": "execute_result"
    }
   ],
   "source": [
    "cereal.head()"
   ]
  },
  {
   "cell_type": "code",
   "execution_count": 128,
   "metadata": {},
   "outputs": [
    {
     "name": "stdout",
     "output_type": "stream",
     "text": [
      "name        0\n",
      "mfr         0\n",
      "type        0\n",
      "calories    0\n",
      "protein     0\n",
      "fat         0\n",
      "sodium      0\n",
      "fiber       0\n",
      "carbo       0\n",
      "sugars      0\n",
      "potass      0\n",
      "vitamins    0\n",
      "shelf       0\n",
      "weight      0\n",
      "cups        0\n",
      "rating      0\n",
      "dtype: int64\n",
      "\n",
      "\n",
      "<class 'pandas.core.frame.DataFrame'>\n",
      "RangeIndex: 77 entries, 0 to 76\n",
      "Data columns (total 16 columns):\n",
      "name        77 non-null object\n",
      "mfr         77 non-null object\n",
      "type        77 non-null object\n",
      "calories    77 non-null int64\n",
      "protein     77 non-null int64\n",
      "fat         77 non-null int64\n",
      "sodium      77 non-null int64\n",
      "fiber       77 non-null float64\n",
      "carbo       77 non-null float64\n",
      "sugars      77 non-null int64\n",
      "potass      77 non-null int64\n",
      "vitamins    77 non-null int64\n",
      "shelf       77 non-null int64\n",
      "weight      77 non-null float64\n",
      "cups        77 non-null float64\n",
      "rating      77 non-null float64\n",
      "dtypes: float64(5), int64(8), object(3)\n",
      "memory usage: 9.7+ KB\n",
      "None\n",
      "\n",
      "\n",
      "       calories  protein    fat  sodium  fiber  carbo  sugars  potass  \\\n",
      "count    77.000   77.000 77.000  77.000 77.000 77.000  77.000  77.000   \n",
      "mean    106.883    2.545  1.013 159.675  2.152 14.597   6.922  96.078   \n",
      "std      19.484    1.095  1.006  83.832  2.383  4.279   4.445  71.287   \n",
      "min      50.000    1.000  0.000   0.000  0.000 -1.000  -1.000  -1.000   \n",
      "25%     100.000    2.000  0.000 130.000  1.000 12.000   3.000  40.000   \n",
      "50%     110.000    3.000  1.000 180.000  2.000 14.000   7.000  90.000   \n",
      "75%     110.000    3.000  2.000 210.000  3.000 17.000  11.000 120.000   \n",
      "max     160.000    6.000  5.000 320.000 14.000 23.000  15.000 330.000   \n",
      "\n",
      "       vitamins  shelf  weight   cups  rating  \n",
      "count    77.000 77.000  77.000 77.000  77.000  \n",
      "mean     28.247  2.208   1.030  0.821  42.666  \n",
      "std      22.343  0.833   0.150  0.233  14.047  \n",
      "min       0.000  1.000   0.500  0.250  18.043  \n",
      "25%      25.000  1.000   1.000  0.670  33.174  \n",
      "50%      25.000  2.000   1.000  0.750  40.400  \n",
      "75%      25.000  3.000   1.000  1.000  50.828  \n",
      "max     100.000  3.000   1.500  1.500  93.705  \n"
     ]
    }
   ],
   "source": [
    "print(cereal.isnull().sum())\n",
    "print('\\n')\n",
    "print(cereal.info())\n",
    "print('\\n')\n",
    "print(cereal.describe())"
   ]
  },
  {
   "cell_type": "code",
   "execution_count": 129,
   "metadata": {},
   "outputs": [
    {
     "name": "stdout",
     "output_type": "stream",
     "text": [
      "There are 77 unique values for name\n",
      "There are 7 unique values for mfr\n",
      "There are 2 unique values for type\n",
      "There are 11 unique values for calories\n",
      "There are 6 unique values for protein\n",
      "There are 5 unique values for fat\n",
      "There are 27 unique values for sodium\n",
      "There are 13 unique values for fiber\n",
      "There are 22 unique values for carbo\n",
      "There are 17 unique values for sugars\n",
      "There are 36 unique values for potass\n",
      "There are 3 unique values for vitamins\n",
      "There are 3 unique values for shelf\n",
      "There are 7 unique values for weight\n",
      "There are 12 unique values for cups\n",
      "There are 77 unique values for rating\n"
     ]
    }
   ],
   "source": [
    "# determine categorical variables.\n",
    "for col in cereal.columns:\n",
    "    print('There are {} unique values for {}'.format((len(cereal[col].unique())),col))"
   ]
  },
  {
   "cell_type": "code",
   "execution_count": 130,
   "metadata": {},
   "outputs": [
    {
     "data": {
      "text/plain": [
       "rating     1.000\n",
       "sugars     0.760\n",
       "calories   0.689\n",
       "fiber      0.584\n",
       "protein    0.471\n",
       "fat        0.409\n",
       "sodium     0.401\n",
       "potass     0.380\n",
       "weight     0.298\n",
       "vitamins   0.241\n",
       "cups       0.203\n",
       "carbo      0.052\n",
       "shelf      0.025\n",
       "Name: rating, dtype: float64"
      ]
     },
     "execution_count": 130,
     "metadata": {},
     "output_type": "execute_result"
    }
   ],
   "source": [
    "# look at correlations.\n",
    "corr = cereal.corr().loc[:, 'rating'].abs().sort_values(ascending=False)\n",
    "corr"
   ]
  },
  {
   "cell_type": "markdown",
   "metadata": {},
   "source": [
    "Catgeorical variables: mfr, type, shelf, fat, vitamins, weight, and protein. Will not include shelf, weight or vitamins.\n",
    "\n",
    "Note, some of these categorical variables could be treated as ordinal but I will continue to treat them as categorical.\n",
    "\n",
    "Also, carbs, sugars, and potassium have negative values so i will not include those."
   ]
  },
  {
   "cell_type": "code",
   "execution_count": 131,
   "metadata": {},
   "outputs": [],
   "source": [
    "clean_cereal = cereal.copy()"
   ]
  },
  {
   "cell_type": "code",
   "execution_count": 132,
   "metadata": {
    "collapsed": true
   },
   "outputs": [],
   "source": [
    "# drop shelf, weight, vitamins.\n",
    "clean_cereal = clean_cereal.drop(['shelf', 'vitamins', 'weight'], axis=1)\n",
    "\n",
    "# remove rows with negitve values in carbo, sugars and potass.\n",
    "clean_cereal = clean_cereal[clean_cereal.carbo != -1]\n",
    "clean_cereal = clean_cereal[clean_cereal.sugars != -1]\n",
    "clean_cereal = clean_cereal[clean_cereal.potass != -1]"
   ]
  },
  {
   "cell_type": "code",
   "execution_count": 133,
   "metadata": {},
   "outputs": [
    {
     "name": "stdout",
     "output_type": "stream",
     "text": [
      "<class 'pandas.core.frame.DataFrame'>\n",
      "Int64Index: 74 entries, 0 to 76\n",
      "Data columns (total 13 columns):\n",
      "name        74 non-null object\n",
      "mfr         74 non-null object\n",
      "type        74 non-null object\n",
      "calories    74 non-null int64\n",
      "protein     74 non-null int64\n",
      "fat         74 non-null int64\n",
      "sodium      74 non-null int64\n",
      "fiber       74 non-null float64\n",
      "carbo       74 non-null float64\n",
      "sugars      74 non-null int64\n",
      "potass      74 non-null int64\n",
      "cups        74 non-null float64\n",
      "rating      74 non-null float64\n",
      "dtypes: float64(4), int64(6), object(3)\n",
      "memory usage: 8.1+ KB\n"
     ]
    }
   ],
   "source": [
    "clean_cereal.info()"
   ]
  },
  {
   "cell_type": "code",
   "execution_count": 134,
   "metadata": {},
   "outputs": [
    {
     "name": "stdout",
     "output_type": "stream",
     "text": [
      "<class 'pandas.core.frame.DataFrame'>\n",
      "Int64Index: 74 entries, 0 to 76\n",
      "Data columns (total 13 columns):\n",
      "name        74 non-null object\n",
      "mfr         74 non-null object\n",
      "type        74 non-null object\n",
      "calories    74 non-null int64\n",
      "protein     74 non-null object\n",
      "fat         74 non-null object\n",
      "sodium      74 non-null int64\n",
      "fiber       74 non-null float64\n",
      "carbo       74 non-null float64\n",
      "sugars      74 non-null int64\n",
      "potass      74 non-null int64\n",
      "cups        74 non-null float64\n",
      "rating      74 non-null float64\n",
      "dtypes: float64(4), int64(4), object(5)\n",
      "memory usage: 8.1+ KB\n"
     ]
    }
   ],
   "source": [
    "clean_cereal[['fat', 'protein']] = clean_cereal[['fat', 'protein']].astype(object)\n",
    "clean_cereal.info()"
   ]
  },
  {
   "cell_type": "code",
   "execution_count": 135,
   "metadata": {
    "collapsed": true
   },
   "outputs": [],
   "source": [
    "# make dummy variables for categorical features\n",
    "cereal_feat = pd.get_dummies(clean_cereal[['mfr', 'fat', 'protein']])"
   ]
  },
  {
   "cell_type": "code",
   "execution_count": 136,
   "metadata": {},
   "outputs": [
    {
     "data": {
      "text/plain": [
       "rating     1.000\n",
       "sugars     0.756\n",
       "calories   0.694\n",
       "fiber      0.603\n",
       "potass     0.416\n",
       "sodium     0.383\n",
       "cups       0.223\n",
       "carbo      0.056\n",
       "Name: rating, dtype: float64"
      ]
     },
     "execution_count": 136,
     "metadata": {},
     "output_type": "execute_result"
    }
   ],
   "source": [
    "# look at relationship with continuous variables and ratings\n",
    "corr = clean_cereal.corr().loc[:, 'rating'].abs().sort_values(ascending=False)\n",
    "corr"
   ]
  },
  {
   "cell_type": "code",
   "execution_count": 137,
   "metadata": {},
   "outputs": [
    {
     "data": {
      "text/html": [
       "<div>\n",
       "<style>\n",
       "    .dataframe thead tr:only-child th {\n",
       "        text-align: right;\n",
       "    }\n",
       "\n",
       "    .dataframe thead th {\n",
       "        text-align: left;\n",
       "    }\n",
       "\n",
       "    .dataframe tbody tr th {\n",
       "        vertical-align: top;\n",
       "    }\n",
       "</style>\n",
       "<table border=\"1\" class=\"dataframe\">\n",
       "  <thead>\n",
       "    <tr style=\"text-align: right;\">\n",
       "      <th></th>\n",
       "      <th>calories</th>\n",
       "      <th>sodium</th>\n",
       "      <th>fiber</th>\n",
       "      <th>carbo</th>\n",
       "      <th>sugars</th>\n",
       "      <th>potass</th>\n",
       "      <th>cups</th>\n",
       "      <th>rating</th>\n",
       "    </tr>\n",
       "  </thead>\n",
       "  <tbody>\n",
       "    <tr>\n",
       "      <th>calories</th>\n",
       "      <td>1.000</td>\n",
       "      <td>0.296</td>\n",
       "      <td>-0.295</td>\n",
       "      <td>0.271</td>\n",
       "      <td>0.569</td>\n",
       "      <td>-0.071</td>\n",
       "      <td>0.089</td>\n",
       "      <td>-0.694</td>\n",
       "    </tr>\n",
       "    <tr>\n",
       "      <th>sodium</th>\n",
       "      <td>0.296</td>\n",
       "      <td>1.000</td>\n",
       "      <td>-0.071</td>\n",
       "      <td>0.328</td>\n",
       "      <td>0.037</td>\n",
       "      <td>-0.039</td>\n",
       "      <td>0.120</td>\n",
       "      <td>-0.383</td>\n",
       "    </tr>\n",
       "    <tr>\n",
       "      <th>fiber</th>\n",
       "      <td>-0.295</td>\n",
       "      <td>-0.071</td>\n",
       "      <td>1.000</td>\n",
       "      <td>-0.379</td>\n",
       "      <td>-0.151</td>\n",
       "      <td>0.912</td>\n",
       "      <td>-0.514</td>\n",
       "      <td>0.603</td>\n",
       "    </tr>\n",
       "    <tr>\n",
       "      <th>carbo</th>\n",
       "      <td>0.271</td>\n",
       "      <td>0.328</td>\n",
       "      <td>-0.379</td>\n",
       "      <td>1.000</td>\n",
       "      <td>-0.452</td>\n",
       "      <td>-0.365</td>\n",
       "      <td>0.358</td>\n",
       "      <td>0.056</td>\n",
       "    </tr>\n",
       "    <tr>\n",
       "      <th>sugars</th>\n",
       "      <td>0.569</td>\n",
       "      <td>0.037</td>\n",
       "      <td>-0.151</td>\n",
       "      <td>-0.452</td>\n",
       "      <td>1.000</td>\n",
       "      <td>0.001</td>\n",
       "      <td>-0.032</td>\n",
       "      <td>-0.756</td>\n",
       "    </tr>\n",
       "    <tr>\n",
       "      <th>potass</th>\n",
       "      <td>-0.071</td>\n",
       "      <td>-0.039</td>\n",
       "      <td>0.912</td>\n",
       "      <td>-0.365</td>\n",
       "      <td>0.001</td>\n",
       "      <td>1.000</td>\n",
       "      <td>-0.502</td>\n",
       "      <td>0.416</td>\n",
       "    </tr>\n",
       "    <tr>\n",
       "      <th>cups</th>\n",
       "      <td>0.089</td>\n",
       "      <td>0.120</td>\n",
       "      <td>-0.514</td>\n",
       "      <td>0.358</td>\n",
       "      <td>-0.032</td>\n",
       "      <td>-0.502</td>\n",
       "      <td>1.000</td>\n",
       "      <td>-0.223</td>\n",
       "    </tr>\n",
       "    <tr>\n",
       "      <th>rating</th>\n",
       "      <td>-0.694</td>\n",
       "      <td>-0.383</td>\n",
       "      <td>0.603</td>\n",
       "      <td>0.056</td>\n",
       "      <td>-0.756</td>\n",
       "      <td>0.416</td>\n",
       "      <td>-0.223</td>\n",
       "      <td>1.000</td>\n",
       "    </tr>\n",
       "  </tbody>\n",
       "</table>\n",
       "</div>"
      ],
      "text/plain": [
       "          calories  sodium  fiber  carbo  sugars  potass   cups  rating\n",
       "calories     1.000   0.296 -0.295  0.271   0.569  -0.071  0.089  -0.694\n",
       "sodium       0.296   1.000 -0.071  0.328   0.037  -0.039  0.120  -0.383\n",
       "fiber       -0.295  -0.071  1.000 -0.379  -0.151   0.912 -0.514   0.603\n",
       "carbo        0.271   0.328 -0.379  1.000  -0.452  -0.365  0.358   0.056\n",
       "sugars       0.569   0.037 -0.151 -0.452   1.000   0.001 -0.032  -0.756\n",
       "potass      -0.071  -0.039  0.912 -0.365   0.001   1.000 -0.502   0.416\n",
       "cups         0.089   0.120 -0.514  0.358  -0.032  -0.502  1.000  -0.223\n",
       "rating      -0.694  -0.383  0.603  0.056  -0.756   0.416 -0.223   1.000"
      ]
     },
     "metadata": {},
     "output_type": "display_data"
    }
   ],
   "source": [
    "from IPython.display import display\n",
    "corr_matrix = clean_cereal.corr()\n",
    "display(corr_matrix)"
   ]
  },
  {
   "cell_type": "code",
   "execution_count": 138,
   "metadata": {},
   "outputs": [
    {
     "data": {
      "text/plain": [
       "<seaborn.axisgrid.PairGrid at 0x1080bc18>"
      ]
     },
     "execution_count": 138,
     "metadata": {},
     "output_type": "execute_result"
    },
    {
     "data": {
      "image/png": "[encoded data removed]",
      "text/plain": [
       "<matplotlib.figure.Figure at 0x10556978>"
      ]
     },
     "metadata": {},
     "output_type": "display_data"
    }
   ],
   "source": [
    "# create pairplot to examine the relationships with rating.\n",
    "# exclude cups and carbo, they have low correlations with rating.\n",
    "\n",
    "clean_cereal = clean_cereal.drop(['cups','carbo'],axis=1)\n",
    "\n",
    "sns.pairplot(clean_cereal[['rating', 'sugars', 'calories', 'fiber', 'potass', 'sodium']])"
   ]
  },
  {
   "cell_type": "code",
   "execution_count": 139,
   "metadata": {
    "collapsed": true
   },
   "outputs": [],
   "source": [
    "# dropping sodium due to its lack of linear relationship with ratings.\n",
    "# fiber and potass are highly correlated. Consider combining as one feature.\n",
    "\n",
    "means = clean_cereal[['potass', 'fiber']].mean(axis=0)\n",
    "stds = clean_cereal[['potass', 'fiber']].std(axis=0)\n",
    "cereal_feat['pot_fib'] = ((clean_cereal[['potass', 'fiber']]-means)/stds).mean(axis=1)"
   ]
  },
  {
   "cell_type": "code",
   "execution_count": 140,
   "metadata": {},
   "outputs": [],
   "source": [
    "# add sugar and calories to feature dataframe.\n",
    "cereal_feat['sugars'] = clean_cereal['sugars']\n",
    "cereal_feat['calories'] = clean_cereal['calories']"
   ]
  },
  {
   "cell_type": "code",
   "execution_count": 141,
   "metadata": {},
   "outputs": [
    {
     "name": "stdout",
     "output_type": "stream",
     "text": [
      "<class 'pandas.core.frame.DataFrame'>\n",
      "Int64Index: 74 entries, 0 to 76\n",
      "Data columns (total 20 columns):\n",
      "mfr_A        74 non-null uint8\n",
      "mfr_G        74 non-null uint8\n",
      "mfr_K        74 non-null uint8\n",
      "mfr_N        74 non-null uint8\n",
      "mfr_P        74 non-null uint8\n",
      "mfr_Q        74 non-null uint8\n",
      "mfr_R        74 non-null uint8\n",
      "fat_0        74 non-null uint8\n",
      "fat_1        74 non-null uint8\n",
      "fat_2        74 non-null uint8\n",
      "fat_3        74 non-null uint8\n",
      "fat_5        74 non-null uint8\n",
      "protein_1    74 non-null uint8\n",
      "protein_2    74 non-null uint8\n",
      "protein_3    74 non-null uint8\n",
      "protein_4    74 non-null uint8\n",
      "protein_6    74 non-null uint8\n",
      "pot_fib      74 non-null float64\n",
      "sugars       74 non-null int64\n",
      "calories     74 non-null int64\n",
      "dtypes: float64(1), int64(2), uint8(17)\n",
      "memory usage: 6.0 KB\n"
     ]
    }
   ],
   "source": [
    "cereal_feat.info()"
   ]
  },
  {
   "cell_type": "code",
   "execution_count": 142,
   "metadata": {},
   "outputs": [],
   "source": [
    "# Time to scale. only select numeric variables to scale.\n",
    "df_num = cereal_feat.select_dtypes(include=[np.number]).dropna()\n",
    "\n",
    "# Save column names\n",
    "names = df_num.columns\n",
    "\n",
    "# Scale and turn teh resulting numpy array back into a dataframe with the correct column names.\n",
    "cereal_scaled = pd.DataFrame(preprocessing.scale(df_num), columns=names, index=clean_cereal.index)"
   ]
  },
  {
   "cell_type": "code",
   "execution_count": 143,
   "metadata": {},
   "outputs": [
    {
     "name": "stdout",
     "output_type": "stream",
     "text": [
      "sugars      0.756\n",
      "calories    0.694\n",
      "pot_fib     0.521\n",
      "mfr_N       0.508\n",
      "fat_0       0.471\n",
      "protein_1   0.427\n",
      "mfr_G       0.368\n",
      "protein_4   0.323\n",
      "fat_2       0.219\n",
      "fat_1       0.208\n",
      "Name: rating, dtype: float64\n"
     ]
    }
   ],
   "source": [
    "# Time to select the best features.\n",
    "# For this, I'll look at correlations with our target variable.\n",
    "# Need to add ratings to our data frame as well.\n",
    "cereal_scaled['rating'] = clean_cereal['rating']\n",
    "corrmat = cereal_scaled.corr()\n",
    "#top 10 feats\n",
    "print(corrmat.rating.abs().sort_values(ascending=False).iloc[1:11])"
   ]
  },
  {
   "cell_type": "markdown",
   "metadata": {},
   "source": [
    "## OLS Regression"
   ]
  },
  {
   "cell_type": "code",
   "execution_count": 145,
   "metadata": {},
   "outputs": [
    {
     "name": "stdout",
     "output_type": "stream",
     "text": [
      "\n",
      "Coefficients: \n",
      " [-6.01934354 -3.14164478  4.49185202  2.00958371  3.5879863  -1.94001013\n",
      " -1.20133545  1.12692254  0.80435241  1.27925419]\n",
      "\n",
      "Intercept: \n",
      " 42.3717869324\n",
      "\n",
      "R-squared:\n",
      "0.930700718811\n"
     ]
    }
   ],
   "source": [
    "from sklearn import linear_model\n",
    "regr = linear_model.LinearRegression()\n",
    "\n",
    "data = cereal_scaled[['sugars', 'calories', 'pot_fib', 'mfr_N', 'fat_0', 'protein_1', 'mfr_G', 'protein_4', 'fat_2', 'fat_1']]\n",
    "target = cereal_scaled['rating']\n",
    "\n",
    "regr.fit(data, target)\n",
    "print('\\nCoefficients: \\n', regr.coef_)\n",
    "print('\\nIntercept: \\n', regr.intercept_)\n",
    "print('\\nR-squared:')\n",
    "print(regr.score(data,target))"
   ]
  },
  {
   "cell_type": "code",
   "execution_count": 149,
   "metadata": {},
   "outputs": [
    {
     "name": "stdout",
     "output_type": "stream",
     "text": [
      "\n",
      "Training Coefficients: \n",
      " [-6.54371061 -3.1463199   4.88247862  2.79397807  2.72205779 -1.24707023\n",
      " -1.71650754  1.39083667  1.51434701  1.29778146]\n",
      "\n",
      "Training Intercept: \n",
      " 42.3915068655\n",
      "\n",
      "Training R-squared:\n",
      "The R^2 value for train set: {} 0.9370912501128594\n",
      "The R^2 value for test set: {} 0.846274011068691\n"
     ]
    }
   ],
   "source": [
    "from sklearn.model_selection import train_test_split\n",
    "from sklearn import model_selection\n",
    "\n",
    "data_train, data_test, target_train, target_test = model_selection.train_test_split(\n",
    "    data, target, test_size=0.30, random_state=42)\n",
    "\n",
    "# Fit our model to the data.\n",
    "regr.fit(data_train, target_train)\n",
    "\n",
    "# Classify, storing the result in a new variable.\n",
    "test_pred = regr.predict(data_test)\n",
    "train_pred = regr.predict(data_train)\n",
    "\n",
    "print('\\nTraining Coefficients: \\n', regr.coef_)\n",
    "print('\\nTraining Intercept: \\n', regr.intercept_)\n",
    "print('\\nTraining R-squared:')\n",
    "print('The R^2 value for train set: {}', format(regr.score(data_train, target_train)))\n",
    "print('The R^2 value for test set: {}', format(regr.score(data_test, target_test)))"
   ]
  },
  {
   "cell_type": "markdown",
   "metadata": {},
   "source": [
    "Even though our R^2 is fairly high and there could be possible overfitting, I am going to leave as is for right now."
   ]
  },
  {
   "cell_type": "code",
   "execution_count": 150,
   "metadata": {},
   "outputs": [
    {
     "name": "stdout",
     "output_type": "stream",
     "text": [
      "5.26666494185213\n"
     ]
    }
   ],
   "source": [
    "from sklearn.model_selection import cross_val_predict\n",
    "predict = cross_val_predict(regr, data, target, cv=5)\n",
    "actual = target\n",
    "error = (np.mean((actual-predict)**2))**.5\n",
    "print(error)"
   ]
  },
  {
   "cell_type": "code",
   "execution_count": 153,
   "metadata": {},
   "outputs": [
    {
     "data": {
      "image/png": "[encoded data removed]",
      "text/plain": [
       "<matplotlib.figure.Figure at 0x12f0a0b8>"
      ]
     },
     "metadata": {},
     "output_type": "display_data"
    },
    {
     "data": {
      "image/png": "[encoded data removed]",
      "text/plain": [
       "<matplotlib.figure.Figure at 0x134bbc88>"
      ]
     },
     "metadata": {},
     "output_type": "display_data"
    }
   ],
   "source": [
    "predicted = regr.predict(data)\n",
    "actual = target\n",
    "\n",
    "# Calculate residuals.\n",
    "residual = actual - predicted\n",
    "residual = pd.to_numeric(residual)\n",
    "\n",
    "# Histogram of resiuals\n",
    "plt.hist(residual, bins=30)\n",
    "plt.title('Residual Counts')\n",
    "plt.xlabel('Residual')\n",
    "plt.ylabel('Count')\n",
    "plt.xlim()\n",
    "plt.show()\n",
    "\n",
    "plt.scatter(predicted, residual)\n",
    "plt.xlabel('Predicted')\n",
    "plt.ylabel('Residual')\n",
    "plt.axhline(y=0)\n",
    "plt.title('Residual vs. Predicted')\n",
    "plt.show()"
   ]
  },
  {
   "cell_type": "markdown",
   "metadata": {},
   "source": [
    "High R^2. Pretty good model. Let's try KNN."
   ]
  },
  {
   "cell_type": "markdown",
   "metadata": {},
   "source": [
    "## KNN Regression"
   ]
  },
  {
   "cell_type": "code",
   "execution_count": 156,
   "metadata": {},
   "outputs": [
    {
     "data": {
      "text/plain": [
       "KNeighborsRegressor(algorithm='auto', leaf_size=30, metric='minkowski',\n",
       "          metric_params=None, n_jobs=1, n_neighbors=5, p=2,\n",
       "          weights='uniform')"
      ]
     },
     "execution_count": 156,
     "metadata": {},
     "output_type": "execute_result"
    }
   ],
   "source": [
    "from sklearn import neighbors\n",
    "\n",
    "# Build our model.\n",
    "knn = neighbors.KNeighborsRegressor(n_neighbors=5)\n",
    "X = pd.DataFrame(cereal_feat[['sugars', 'calories', 'pot_fib', 'mfr_N', 'fat_0', 'protein_1','mfr_G', 'protein_4',\n",
    "                          'fat_2', 'fat_1']])\n",
    "Y = clean_cereal.rating\n",
    "knn.fit(X,Y)"
   ]
  },
  {
   "cell_type": "code",
   "execution_count": 158,
   "metadata": {},
   "outputs": [
    {
     "name": "stdout",
     "output_type": "stream",
     "text": [
      "\n",
      "Each Cross Validated R^2 Score: \n",
      " [ 0.6925183   0.34191649  0.68325152  0.48030735  0.5984446 ]\n",
      "\n",
      "Unweighted Accuracy: 0.56 (+/- 0.27)\n"
     ]
    }
   ],
   "source": [
    "from sklearn.model_selection import cross_val_score\n",
    "score = cross_val_score(knn, X, Y, cv=5)\n",
    "print('\\nEach Cross Validated R^2 Score: \\n', score)\n",
    "print('\\nUnweighted Accuracy: %0.2f (+/- %0.2f)' % (score.mean(), score.std() * 2))"
   ]
  },
  {
   "cell_type": "markdown",
   "metadata": {},
   "source": [
    "Very low R^2. let's scale our inputs."
   ]
  },
  {
   "cell_type": "code",
   "execution_count": 159,
   "metadata": {},
   "outputs": [
    {
     "name": "stdout",
     "output_type": "stream",
     "text": [
      "\n",
      "Each Cross Validated R^2 Score: \n",
      " [ 0.52937795  0.54370826  0.40479135  0.21807929  0.35222527]\n",
      "\n",
      "Unweighted Accuracy: 0.41 (+/- 0.24)\n"
     ]
    }
   ],
   "source": [
    "from sklearn.preprocessing import MinMaxScaler\n",
    "from sklearn import neighbors\n",
    "scaler = MinMaxScaler()\n",
    "\n",
    "# Build our model.\n",
    "knn = neighbors.KNeighborsRegressor(n_neighbors=5)\n",
    "X = pd.DataFrame(cereal_feat[['sugars', 'calories', 'pot_fib', 'mfr_N', 'fat_0', 'protein_1','mfr_G', 'protein_4',\n",
    "                          'fat_2', 'fat_1']])\n",
    "X_norm = scaler.fit_transform(X)\n",
    "Y = clean_cereal.rating\n",
    "knn.fit(X_norm,Y)\n",
    "\n",
    "from sklearn.model_selection import cross_val_score\n",
    "score = cross_val_score(knn, X_norm, Y, cv=5)\n",
    "print('\\nEach Cross Validated R^2 Score: \\n', score)\n",
    "print('\\nUnweighted Accuracy: %0.2f (+/- %0.2f)' % (score.mean(), score.std() * 2))"
   ]
  },
  {
   "cell_type": "markdown",
   "metadata": {},
   "source": [
    "Still not great. Let's look at the featurs from OLS model that have highest correlation to rating."
   ]
  },
  {
   "cell_type": "code",
   "execution_count": 160,
   "metadata": {},
   "outputs": [
    {
     "name": "stdout",
     "output_type": "stream",
     "text": [
      "\n",
      "Each Cross Validated R^2 Score: \n",
      " [ 0.742222    0.51209123  0.81242877  0.87602278  0.55019042]\n",
      "\n",
      "Unweighted Accuracy: 0.70 (+/- 0.29)\n"
     ]
    }
   ],
   "source": [
    "knn = neighbors.KNeighborsRegressor(n_neighbors=5)\n",
    "X = pd.DataFrame(cereal_feat[['sugars', 'calories', 'pot_fib']])\n",
    "X_norm = scaler.fit_transform(X)\n",
    "Y = clean_cereal.rating\n",
    "knn.fit(X_norm, Y)\n",
    "\n",
    "from sklearn.model_selection import cross_val_score\n",
    "score = cross_val_score(knn, X_norm, Y, cv=5)\n",
    "print('\\nEach Cross Validated R^2 Score: \\n', score)\n",
    "print('\\nUnweighted Accuracy: %0.2f (+/- %0.2f)' % (score.mean(), score.std() * 2))"
   ]
  },
  {
   "cell_type": "markdown",
   "metadata": {},
   "source": [
    "Accuracy is better but still not as good as my OLS model. Let's try weighting my neighbors."
   ]
  },
  {
   "cell_type": "code",
   "execution_count": 162,
   "metadata": {},
   "outputs": [
    {
     "name": "stdout",
     "output_type": "stream",
     "text": [
      "\n",
      "Each Cross Validated R^2 Score: \n",
      " [ 0.74038143  0.53904589  0.80362764  0.81206763  0.57055427]\n",
      "\n",
      "Weighted Accuracy: 0.69 (+/- 0.23)\n"
     ]
    }
   ],
   "source": [
    "knn_w = neighbors.KNeighborsRegressor(n_neighbors=5, weights='distance')\n",
    "knn_w.fit(X_norm, Y)\n",
    "\n",
    "score_w = cross_val_score(knn_w, X_norm, Y, cv=5)\n",
    "print('\\nEach Cross Validated R^2 Score: \\n', score_w)\n",
    "print('\\nWeighted Accuracy: %0.2f (+/- %0.2f)' % (score_w.mean(), score_w.std() * 2))"
   ]
  },
  {
   "cell_type": "markdown",
   "metadata": {},
   "source": [
    "This is just about the same as the Unweighted Model."
   ]
  },
  {
   "cell_type": "code",
   "execution_count": 164,
   "metadata": {},
   "outputs": [
    {
     "data": {
      "image/png": "[encoded data removed]",
      "text/plain": [
       "<matplotlib.figure.Figure at 0x13596e10>"
      ]
     },
     "metadata": {},
     "output_type": "display_data"
    }
   ],
   "source": [
    "# Let's look at the extracted predicted values.\n",
    "\n",
    "#OLS\n",
    "predicted_ols = regr.predict(data)\n",
    "actual_ols = target\n",
    "\n",
    "#KNN\n",
    "predicted_k = knn.predict(X_norm)\n",
    "actual_k = Y\n",
    "\n",
    "# Calculate residuals\n",
    "residual_ols = actual_ols - predicted_ols\n",
    "residual_ols = pd.to_numeric(residual_ols)\n",
    "\n",
    "residual_k = actual_k - predicted_k\n",
    "residual_k = pd.to_numeric(residual_k)\n",
    "\n",
    "# Plot\n",
    "plt.scatter(predicted_k, residual_k, c='b', label='KNN')\n",
    "plt.xlabel('Predicted')\n",
    "plt.ylabel('Residual')\n",
    "plt.legend()\n",
    "plt.axhline(y=0)\n",
    "plt.title('Residual vs. Predicted')\n",
    "\n",
    "plt.scatter(predicted_ols, residual_ols, c='r', label='OLS')\n",
    "plt.xlabel('Predicted')\n",
    "plt.ylabel('Residual')\n",
    "plt.legend()\n",
    "plt.axhline(y=0)\n",
    "plt.title('Residual vs. Predicted')\n",
    "plt.show()"
   ]
  },
  {
   "cell_type": "markdown",
   "metadata": {},
   "source": [
    "Data Points are pretty close together, but the range of the OLS predicted values are higher. This is because the alargest value the nearest neighbor model can predict has to be the largest value in the training set, which also needs to be the nearest neighbor. The KNN model with weighted averages will not return our max predicted value. Therefore, I would choose my OLS model."
   ]
  },
  {
   "cell_type": "code",
   "execution_count": null,
   "metadata": {
    "collapsed": true
   },
   "outputs": [],
   "source": []
  }
 ],
 "metadata": {
  "kernelspec": {
   "display_name": "Python 3",
   "language": "python",
   "name": "python3"
  },
  "language_info": {
   "codemirror_mode": {
    "name": "ipython",
    "version": 3
   },
   "file_extension": ".py",
   "mimetype": "text/x-python",
   "name": "python",
   "nbconvert_exporter": "python",
   "pygments_lexer": "ipython3",
   "version": "3.6.3"
  }
 },
 "nbformat": 4,
 "nbformat_minor": 2
}
