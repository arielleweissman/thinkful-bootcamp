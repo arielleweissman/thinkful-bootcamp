{
 "cells": [
  {
   "cell_type": "markdown",
   "metadata": {},
   "source": [
    "1. The ID's and durations for all trips of duration greater than 500, ordered by duration.\n",
    "\n",
    "select\n",
    "\ttrip_id,\n",
    "\tduration\n",
    "from\n",
    "\ttrips\n",
    "where duration > 500\n",
    "order by duration "
   ]
  },
  {
   "cell_type": "markdown",
   "metadata": {},
   "source": [
    "2. Every column of the stations table for station id 84.\n",
    "\n",
    "select *\n",
    "from\n",
    "\tstations\n",
    "where station_id = 84"
   ]
  },
  {
   "cell_type": "markdown",
   "metadata": {},
   "source": [
    "3. The min temperatures of all the occurrences of rain in zip 94301.\n",
    "\n",
    "select MinTemperatureF\n",
    "from weather\n",
    "where ZIP = 94301"
   ]
  }
 ],
 "metadata": {
  "kernelspec": {
   "display_name": "Python 3",
   "language": "python",
   "name": "python3"
  },
  "language_info": {
   "codemirror_mode": {
    "name": "ipython",
    "version": 3
   },
   "file_extension": ".py",
   "mimetype": "text/x-python",
   "name": "python",
   "nbconvert_exporter": "python",
   "pygments_lexer": "ipython3",
   "version": "3.6.3"
  }
 },
 "nbformat": 4,
 "nbformat_minor": 2
}
