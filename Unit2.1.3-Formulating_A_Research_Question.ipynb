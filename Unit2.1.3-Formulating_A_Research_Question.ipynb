{
 "cells": [
  {
   "cell_type": "markdown",
   "metadata": {},
   "source": [
    "## Unit 2.1.3 - Formulating A Research Question.\n",
    "\n",
    "1.\tWhat is the 1994 rate of juvenile delinquency in the U.S.? \n",
    ">- •\tBad. This data is already known and does not require modeling. \n",
    ">- •\tSolution: What will be the juvenile delinquency rate in the U.S. in 2019?\n",
    "\n",
    "2.\tWhat can we do to reduce juvenile delinquency in the U.S.?\n",
    ">- •\tBad. Too vague and cannot be answered with a numerical solution.\n",
    ">- •\tSolution: What are the driving factors in juvenile delinquency in the U.S.? \n",
    "\n",
    "3.\tDoes education play a role in reducing juvenile deliquents’ return to crime?\n",
    ">- •\tGood.\n",
    "\n",
    "4.\tHow many customers does AT&T currently serve in Washington, DC?\n",
    ">- •\tBad. Again, this data is already known.\n",
    ">- •\tSolution: How many customers will switch from AT&T to Verizon in the D.C. area in 2019?\n",
    "\n",
    "5.\tWhat factors lead consumers to choose AT&T over the other service providers?\n",
    ">- •\tGood. Assuming that there is data available on driving factors for choosing service providers.\n",
    "\n",
    "6.\tHow can AT&T attract more customers?\n",
    ">- •\tBad. This is a play on the last question but is too broad.\n",
    ">- •\tSolution: What factors are predictive of customers to NOT choose AT&T and go with another service provider?\n",
    "\n",
    "7.\tWhy did the Challenge Shuttle explode?\n",
    ">- •\tBad. Too broad of a question as there could be a million reasons why the Challenge Shuttle exploded and some of those may not be able to be quantified numerically.\n",
    ">- •\tSolution: Based on system failure of each part of the shuttle, what is the likelihood of the Challenge Shuttle exploding?\n",
    "\n",
    "8.\tWhich genes are associated with increased risk of breast cancer?\n",
    ">- •\tGood.\n",
    "\n",
    "9.\tIs it better to read to children at night or in the morning?\n",
    ">- •\tBad. How does the person asking this question define to be ‘better’? What is the success metric? Is it increased proficiency in learning to read? Do children fall asleep faster when read to?\n",
    ">- •\tSolution: Does reading to children in the morning improve their reading proficiency than when read to at night?\n",
    "\n",
    "10.\tHow does Google’s search algorithm work?\n",
    ">- •\tBad. This question is again too broad and is more of a question seeking information on a process.\n",
    ">- •\tSolution: What are the key factors in determining the order of links in a Google search return?\n"
   ]
  }
 ],
 "metadata": {
  "kernelspec": {
   "display_name": "Python 3",
   "language": "python",
   "name": "python3"
  },
  "language_info": {
   "codemirror_mode": {
    "name": "ipython",
    "version": 3
   },
   "file_extension": ".py",
   "mimetype": "text/x-python",
   "name": "python",
   "nbconvert_exporter": "python",
   "pygments_lexer": "ipython3",
   "version": "3.6.3"
  }
 },
 "nbformat": 4,
 "nbformat_minor": 2
}
