{
 "cells": [
  {
   "cell_type": "markdown",
   "metadata": {},
   "source": [
    "\n",
    "It's time to revisit your classifier from the previous assignment. Using the evaluation techniques we've covered here, look at your classifier's performance in more detail. Then go back and iterate by engineering new features, removing poor features, or tuning parameters. Repeat this process until you have five different versions of your classifier. Once you've iterated, answer these questions to compare the performance of each:\n",
    "\n",
    "--Do any of your classifiers seem to overfit?\n",
    "\n",
    "--Which seem to perform the best? Why?\n",
    "\n",
    "--What features seemed to be most impactful to performance?\n",
    "\n",
    "Write up your iterations and answers to the above questions in a few pages. Submit a link below and go over it with your mentor to see if they have any other ideas on how you could improve your classifier's performance."
   ]
  },
  {
   "cell_type": "code",
   "execution_count": 1,
   "metadata": {},
   "outputs": [],
   "source": [
    "%matplotlib inline\n",
    "import numpy as np\n",
    "import pandas as pd\n",
    "import scipy\n",
    "import sklearn\n",
    "import matplotlib.pyplot as plt\n",
    "import seaborn as sns\n",
    "from sklearn.naive_bayes import BernoulliNB"
   ]
  },
  {
   "cell_type": "code",
   "execution_count": 2,
   "metadata": {},
   "outputs": [],
   "source": [
    "sms_raw = pd.read_csv('amazon_cells_labelled.txt', sep='\\t', header = None)"
   ]
  },
  {
   "cell_type": "code",
   "execution_count": 3,
   "metadata": {},
   "outputs": [],
   "source": [
    "sms_raw.columns = ['Sentence', 'Sentiment']"
   ]
  },
  {
   "cell_type": "code",
   "execution_count": 4,
   "metadata": {},
   "outputs": [
    {
     "data": {
      "text/plain": [
       "1    500\n",
       "0    500\n",
       "Name: Sentiment, dtype: int64"
      ]
     },
     "execution_count": 4,
     "metadata": {},
     "output_type": "execute_result"
    }
   ],
   "source": [
    "sms_raw.Sentiment.value_counts()"
   ]
  },
  {
   "cell_type": "markdown",
   "metadata": {},
   "source": [
    "## 1) Negative Words"
   ]
  },
  {
   "cell_type": "code",
   "execution_count": 5,
   "metadata": {
    "scrolled": false
   },
   "outputs": [],
   "source": [
    "\n",
    "negative = ['waste', 'breaks', 'lousy','cannot','disappoint','disappointed','junk','poor',\n",
    "           \"doesn't\", 'bad', \"don't\", 'problem', 'misleading', 'difficult','unreliable','horrible','broken','fail', 'terrible']\n",
    "\n",
    "for word in negative:\n",
    "    # Note that we add spaces around the key so that we're getting the word,\n",
    "    # not just pattern matching.\n",
    "    sms_raw[str(word)] = sms_raw.Sentence.str.contains(\n",
    "        ' ' + str(word) + ' ',\n",
    "        case=False\n",
    "    )"
   ]
  },
  {
   "cell_type": "code",
   "execution_count": 6,
   "metadata": {},
   "outputs": [],
   "source": [
    "sms_raw['Sentiment'] = (sms_raw['Sentiment'] == 0)"
   ]
  },
  {
   "cell_type": "code",
   "execution_count": 7,
   "metadata": {},
   "outputs": [
    {
     "data": {
      "text/plain": [
       "<matplotlib.axes._subplots.AxesSubplot at 0xdd9c170>"
      ]
     },
     "execution_count": 7,
     "metadata": {},
     "output_type": "execute_result"
    },
    {
     "data": {
      "image/png": "[encoded data removed]",
      "text/plain": [
       "<matplotlib.figure.Figure at 0xdd9ce70>"
      ]
     },
     "metadata": {},
     "output_type": "display_data"
    }
   ],
   "source": [
    "sns.heatmap(sms_raw.corr())"
   ]
  },
  {
   "cell_type": "code",
   "execution_count": 8,
   "metadata": {},
   "outputs": [],
   "source": [
    "data = sms_raw[negative]  #features\n",
    "target = sms_raw['Sentiment']  #ground_truth"
   ]
  },
  {
   "cell_type": "code",
   "execution_count": 9,
   "metadata": {},
   "outputs": [
    {
     "name": "stdout",
     "output_type": "stream",
     "text": [
      "Train: Number of mislabeled points out of a total 700 points: 318\n",
      "Test: Number of mislabeled points out of a total 300 points: 127\n"
     ]
    }
   ],
   "source": [
    "# Our data is binary / boolean, so we're importing the Bernoulli classifier.\n",
    "from sklearn.naive_bayes import BernoulliNB\n",
    "from sklearn import model_selection\n",
    "\n",
    "data_train, data_test, target_train, target_test = sklearn.model_selection.train_test_split(\n",
    "    data, target, test_size=0.30, random_state=42)\n",
    "\n",
    "# Instantiate our model and store it in a new variable.\n",
    "bnb = BernoulliNB()\n",
    "\n",
    "# Fit our model to the data.\n",
    "bnb.fit(data_train, target_train)\n",
    "\n",
    "# Classify, storing the result in a new variable.\n",
    "test_pred = bnb.predict(data_test) #making predictions using test features\n",
    "train_pred = bnb.predict(data_train)\n",
    "train_confusion = pd.crosstab(target_train, train_pred)\n",
    "test_confusion = pd.crosstab(target_test, test_pred)\n",
    "\n",
    "# Display our results.\n",
    "print(\"Train: Number of mislabeled points out of a total {} points: {}\".format(\n",
    "    data_train.shape[0],\n",
    "    (target_train != train_pred).sum()\n",
    "))\n",
    "\n",
    "print(\"Test: Number of mislabeled points out of a total {} points: {}\".format(\n",
    "    data_test.shape[0],\n",
    "    (target_test != test_pred).sum()\n",
    "))"
   ]
  },
  {
   "cell_type": "code",
   "execution_count": 10,
   "metadata": {},
   "outputs": [
    {
     "data": {
      "text/html": [
       "<div>\n",
       "<style scoped>\n",
       "    .dataframe tbody tr th:only-of-type {\n",
       "        vertical-align: middle;\n",
       "    }\n",
       "\n",
       "    .dataframe tbody tr th {\n",
       "        vertical-align: top;\n",
       "    }\n",
       "\n",
       "    .dataframe thead th {\n",
       "        text-align: right;\n",
       "    }\n",
       "</style>\n",
       "<table border=\"1\" class=\"dataframe\">\n",
       "  <thead>\n",
       "    <tr style=\"text-align: right;\">\n",
       "      <th>col_0</th>\n",
       "      <th>False</th>\n",
       "      <th>True</th>\n",
       "    </tr>\n",
       "    <tr>\n",
       "      <th>Sentiment</th>\n",
       "      <th></th>\n",
       "      <th></th>\n",
       "    </tr>\n",
       "  </thead>\n",
       "  <tbody>\n",
       "    <tr>\n",
       "      <th>False</th>\n",
       "      <td>340</td>\n",
       "      <td>6</td>\n",
       "    </tr>\n",
       "    <tr>\n",
       "      <th>True</th>\n",
       "      <td>312</td>\n",
       "      <td>42</td>\n",
       "    </tr>\n",
       "  </tbody>\n",
       "</table>\n",
       "</div>"
      ],
      "text/plain": [
       "col_0      False  True \n",
       "Sentiment              \n",
       "False        340      6\n",
       "True         312     42"
      ]
     },
     "execution_count": 10,
     "metadata": {},
     "output_type": "execute_result"
    }
   ],
   "source": [
    "train_confusion"
   ]
  },
  {
   "cell_type": "code",
   "execution_count": 11,
   "metadata": {},
   "outputs": [
    {
     "data": {
      "text/html": [
       "<div>\n",
       "<style scoped>\n",
       "    .dataframe tbody tr th:only-of-type {\n",
       "        vertical-align: middle;\n",
       "    }\n",
       "\n",
       "    .dataframe tbody tr th {\n",
       "        vertical-align: top;\n",
       "    }\n",
       "\n",
       "    .dataframe thead th {\n",
       "        text-align: right;\n",
       "    }\n",
       "</style>\n",
       "<table border=\"1\" class=\"dataframe\">\n",
       "  <thead>\n",
       "    <tr style=\"text-align: right;\">\n",
       "      <th>col_0</th>\n",
       "      <th>False</th>\n",
       "      <th>True</th>\n",
       "    </tr>\n",
       "    <tr>\n",
       "      <th>Sentiment</th>\n",
       "      <th></th>\n",
       "      <th></th>\n",
       "    </tr>\n",
       "  </thead>\n",
       "  <tbody>\n",
       "    <tr>\n",
       "      <th>False</th>\n",
       "      <td>153</td>\n",
       "      <td>1</td>\n",
       "    </tr>\n",
       "    <tr>\n",
       "      <th>True</th>\n",
       "      <td>126</td>\n",
       "      <td>20</td>\n",
       "    </tr>\n",
       "  </tbody>\n",
       "</table>\n",
       "</div>"
      ],
      "text/plain": [
       "col_0      False  True \n",
       "Sentiment              \n",
       "False        153      1\n",
       "True         126     20"
      ]
     },
     "execution_count": 11,
     "metadata": {},
     "output_type": "execute_result"
    }
   ],
   "source": [
    "test_confusion"
   ]
  },
  {
   "cell_type": "code",
   "execution_count": 12,
   "metadata": {},
   "outputs": [
    {
     "name": "stdout",
     "output_type": "stream",
     "text": [
      "Accuracy:  0.545714285714\n",
      "Specificity:  0.982658959538\n",
      "Sensitivity:  0.118644067797\n"
     ]
    }
   ],
   "source": [
    "# Accuracy train\n",
    "accuracy = (train_confusion.iloc[0,0]+train_confusion.iloc[1,1])/len(target_train)\n",
    "print('Accuracy: ', accuracy)\n",
    "\n",
    "# Specificity\n",
    "specificity = train_confusion.iloc[0,0]/(train_confusion.iloc[0,1] + train_confusion.iloc[0,0])\n",
    "print('Specificity: ', specificity)\n",
    "\n",
    "# Sensitivity\n",
    "sensitivity = train_confusion.iloc[1,1]/(train_confusion.iloc[1,0] + train_confusion.iloc[1,1])\n",
    "print('Sensitivity: ', sensitivity)"
   ]
  },
  {
   "cell_type": "code",
   "execution_count": 13,
   "metadata": {},
   "outputs": [
    {
     "name": "stdout",
     "output_type": "stream",
     "text": [
      "Accuracy:  0.576666666667\n",
      "Specificity:  0.993506493506\n",
      "Sensitivity:  0.13698630137\n"
     ]
    }
   ],
   "source": [
    "# Accuracy Test\n",
    "accuracy = (test_confusion.iloc[0,0]+test_confusion.iloc[1,1])/len(target_test)\n",
    "print('Accuracy: ', accuracy)\n",
    "\n",
    "# Specificity\n",
    "specificity = test_confusion.iloc[0,0]/(test_confusion.iloc[0,1] + test_confusion.iloc[0,0])\n",
    "print('Specificity: ', specificity)\n",
    "\n",
    "# Sensitivity\n",
    "sensitivity = test_confusion.iloc[1,1]/(test_confusion.iloc[1,0] + test_confusion.iloc[1,1])\n",
    "print('Sensitivity: ', sensitivity)"
   ]
  },
  {
   "cell_type": "markdown",
   "metadata": {},
   "source": [
    "Our train and test groups are similiar in accuracy, speicifity and sensitivity. Thus, there doesn't seem to be any overfitting. Since the sensitivities are low, the model is not great at identifying positive reviews correctly."
   ]
  },
  {
   "cell_type": "markdown",
   "metadata": {},
   "source": [
    "## 2) Positive Words"
   ]
  },
  {
   "cell_type": "code",
   "execution_count": 14,
   "metadata": {},
   "outputs": [],
   "source": [
    "amazon = pd.read_csv('amazon_cells_labelled.txt', sep='\\t', header = None)\n",
    "\n",
    "amazon.columns = ['Sentence', 'Sentiment']"
   ]
  },
  {
   "cell_type": "code",
   "execution_count": 15,
   "metadata": {},
   "outputs": [],
   "source": [
    "positive = ['good','great','excellent','nice','love','beautiful','best','enjoy',\n",
    "                  'highly','brilliant','tremendous','loved','awesome','impressed','perfect','pleased']"
   ]
  },
  {
   "cell_type": "code",
   "execution_count": 26,
   "metadata": {},
   "outputs": [],
   "source": [
    "amazon['Sentiment'] = (amazon['Sentiment'] == 1)"
   ]
  },
  {
   "cell_type": "code",
   "execution_count": 16,
   "metadata": {},
   "outputs": [],
   "source": [
    "for word in positive:\n",
    "    amazon[word] = amazon['Sentence'].apply(lambda x: word in x)"
   ]
  },
  {
   "cell_type": "code",
   "execution_count": 17,
   "metadata": {},
   "outputs": [
    {
     "name": "stdout",
     "output_type": "stream",
     "text": [
      "Train: Number of mislabeled points out of a total 700 points: 240\n",
      "Test: Number of mislabeled points out of a total 300 points: 101\n"
     ]
    }
   ],
   "source": [
    "data = amazon[positive]\n",
    "target = amazon['Sentiment']\n",
    "\n",
    "# Our data is binary / boolean, so we're importing the Bernoulli classifier.\n",
    "from sklearn.naive_bayes import BernoulliNB\n",
    "from sklearn import model_selection\n",
    "\n",
    "data_train, data_test, target_train, target_test = sklearn.model_selection.train_test_split(\n",
    "    data, target, test_size=0.30, random_state=42)\n",
    "\n",
    "# Instantiate our model and store it in a new variable.\n",
    "bnb = BernoulliNB()\n",
    "\n",
    "# Fit our model to the data.\n",
    "bnb.fit(data_train, target_train)\n",
    "\n",
    "# Classify, storing the result in a new variable.\n",
    "test_pred = bnb.predict(data_test) #making predictions using test features\n",
    "train_pred = bnb.predict(data_train)\n",
    "train_confusion = pd.crosstab(target_train, train_pred)\n",
    "test_confusion = pd.crosstab(target_test, test_pred)\n",
    "\n",
    "# Display our results.\n",
    "print(\"Train: Number of mislabeled points out of a total {} points: {}\".format(\n",
    "    data_train.shape[0],\n",
    "    (target_train != train_pred).sum()\n",
    "))\n",
    "\n",
    "print(\"Test: Number of mislabeled points out of a total {} points: {}\".format(\n",
    "    data_test.shape[0],\n",
    "    (target_test != test_pred).sum()\n",
    "))"
   ]
  },
  {
   "cell_type": "code",
   "execution_count": 25,
   "metadata": {},
   "outputs": [
    {
     "data": {
      "text/html": [
       "<div>\n",
       "<style scoped>\n",
       "    .dataframe tbody tr th:only-of-type {\n",
       "        vertical-align: middle;\n",
       "    }\n",
       "\n",
       "    .dataframe tbody tr th {\n",
       "        vertical-align: top;\n",
       "    }\n",
       "\n",
       "    .dataframe thead th {\n",
       "        text-align: right;\n",
       "    }\n",
       "</style>\n",
       "<table border=\"1\" class=\"dataframe\">\n",
       "  <thead>\n",
       "    <tr style=\"text-align: right;\">\n",
       "      <th>col_0</th>\n",
       "      <th>0</th>\n",
       "      <th>1</th>\n",
       "    </tr>\n",
       "    <tr>\n",
       "      <th>Sentiment</th>\n",
       "      <th></th>\n",
       "      <th></th>\n",
       "    </tr>\n",
       "  </thead>\n",
       "  <tbody>\n",
       "    <tr>\n",
       "      <th>0</th>\n",
       "      <td>337</td>\n",
       "      <td>17</td>\n",
       "    </tr>\n",
       "    <tr>\n",
       "      <th>1</th>\n",
       "      <td>223</td>\n",
       "      <td>123</td>\n",
       "    </tr>\n",
       "  </tbody>\n",
       "</table>\n",
       "</div>"
      ],
      "text/plain": [
       "col_0        0    1\n",
       "Sentiment          \n",
       "0          337   17\n",
       "1          223  123"
      ]
     },
     "execution_count": 25,
     "metadata": {},
     "output_type": "execute_result"
    }
   ],
   "source": [
    "train_confusion"
   ]
  },
  {
   "cell_type": "code",
   "execution_count": 19,
   "metadata": {},
   "outputs": [
    {
     "data": {
      "text/html": [
       "<div>\n",
       "<style scoped>\n",
       "    .dataframe tbody tr th:only-of-type {\n",
       "        vertical-align: middle;\n",
       "    }\n",
       "\n",
       "    .dataframe tbody tr th {\n",
       "        vertical-align: top;\n",
       "    }\n",
       "\n",
       "    .dataframe thead th {\n",
       "        text-align: right;\n",
       "    }\n",
       "</style>\n",
       "<table border=\"1\" class=\"dataframe\">\n",
       "  <thead>\n",
       "    <tr style=\"text-align: right;\">\n",
       "      <th>col_0</th>\n",
       "      <th>0</th>\n",
       "      <th>1</th>\n",
       "    </tr>\n",
       "    <tr>\n",
       "      <th>Sentiment</th>\n",
       "      <th></th>\n",
       "      <th></th>\n",
       "    </tr>\n",
       "  </thead>\n",
       "  <tbody>\n",
       "    <tr>\n",
       "      <th>0</th>\n",
       "      <td>135</td>\n",
       "      <td>11</td>\n",
       "    </tr>\n",
       "    <tr>\n",
       "      <th>1</th>\n",
       "      <td>90</td>\n",
       "      <td>64</td>\n",
       "    </tr>\n",
       "  </tbody>\n",
       "</table>\n",
       "</div>"
      ],
      "text/plain": [
       "col_0        0   1\n",
       "Sentiment         \n",
       "0          135  11\n",
       "1           90  64"
      ]
     },
     "execution_count": 19,
     "metadata": {},
     "output_type": "execute_result"
    }
   ],
   "source": [
    "test_confusion"
   ]
  },
  {
   "cell_type": "code",
   "execution_count": 26,
   "metadata": {},
   "outputs": [
    {
     "data": {
      "text/plain": [
       "223"
      ]
     },
     "execution_count": 26,
     "metadata": {},
     "output_type": "execute_result"
    }
   ],
   "source": [
    "train_confusion.iloc[1,0]"
   ]
  },
  {
   "cell_type": "code",
   "execution_count": 30,
   "metadata": {},
   "outputs": [
    {
     "name": "stdout",
     "output_type": "stream",
     "text": [
      "Accuracy:  0.657142857143\n",
      "Specificity  0.95197740113\n",
      "Sensitivity  0.35549132948\n"
     ]
    }
   ],
   "source": [
    "# Accuracy train\n",
    "accuracy = (train_confusion.iloc[0,0] + train_confusion.iloc[1,1])/len(target_train)\n",
    "print('Accuracy: ', accuracy)\n",
    "\n",
    "# Specificity\n",
    "specificity = train_confusion.iloc[0,0]/(train_confusion.iloc[0,1]+train_confusion.iloc[0,0])\n",
    "print('Specificity ', specificity)\n",
    "\n",
    "# Sensitivity\n",
    "sensitivity = train_confusion.iloc[1,1]/(train_confusion.iloc[1,0] + train_confusion.iloc[1,1])\n",
    "print('Sensitivity ', sensitivity)"
   ]
  },
  {
   "cell_type": "code",
   "execution_count": 35,
   "metadata": {},
   "outputs": [
    {
     "name": "stdout",
     "output_type": "stream",
     "text": [
      "Accuracy  0.663333333333\n",
      "Specificity 0.924657534247\n",
      "Sensitivity 0.415584415584\n"
     ]
    }
   ],
   "source": [
    "# Accuracy test\n",
    "accuracy = (test_confusion.iloc[0,0] + test_confusion.iloc[1,1])/len(target_test)\n",
    "print('Accuracy ', accuracy)\n",
    "\n",
    "# Specificity\n",
    "specificity = test_confusion.iloc[0,0]/(test_confusion.iloc[0,1] + test_confusion.iloc[0,0])\n",
    "print('Specificity', specificity)\n",
    "\n",
    "# Sensitivity\n",
    "sensitivity = test_confusion.iloc[1,1]/(test_confusion.iloc[1,0] + test_confusion.iloc[1,1])\n",
    "print('Sensitivity', sensitivity)"
   ]
  },
  {
   "cell_type": "markdown",
   "metadata": {},
   "source": [
    "Again, our train and test groups are similiar in accuracy, specificity and sensitivity, so not much of overfittying. Our accuracy is better than our first iteration, and while specificity is lower (still good at predicting negative reviews), the sensitivities are higher, meaning we are getting better at predicting positive reviews."
   ]
  },
  {
   "cell_type": "markdown",
   "metadata": {},
   "source": [
    "## Frequent Positive Words"
   ]
  },
  {
   "cell_type": "code",
   "execution_count": 36,
   "metadata": {},
   "outputs": [],
   "source": [
    "#look at most common words in positive reviews\n",
    "\n",
    "amazon = pd.read_csv('amazon_cells_labelled.txt', sep='\\t', header = None)\n",
    "\n",
    "amazon.columns = ['Sentence', 'Sentiment']\n",
    "\n",
    "amazon['Sentiment'] = (amazon['Sentiment'] == 1)"
   ]
  },
  {
   "cell_type": "code",
   "execution_count": 37,
   "metadata": {},
   "outputs": [],
   "source": [
    "# Outcome variable\n",
    "good = amazon.loc[amazon.Sentiment==1,'Sentence']"
   ]
  },
  {
   "cell_type": "code",
   "execution_count": 40,
   "metadata": {},
   "outputs": [],
   "source": [
    "def modes(amz):\n",
    "    counting = {}\n",
    "    for item in amz.str.split('\\s+'):\n",
    "        for word in item:\n",
    "            if word in counting:\n",
    "                counting[word] += 1\n",
    "            else:\n",
    "                counting[word] = 1\n",
    "                \n",
    "    most = max(counting.values())\n",
    "    \n",
    "    least = min(counting.values())\n",
    "    \n",
    "    result = []\n",
    "    #lets set the mode to words appearing more than 25 times\n",
    "    for key, value in counting.items():\n",
    "        if value >= 25:\n",
    "            result.append(key)\n",
    "            \n",
    "    return result"
   ]
  },
  {
   "cell_type": "code",
   "execution_count": 41,
   "metadata": {},
   "outputs": [],
   "source": [
    "mode_good = modes(good)\n",
    "for word in mode_good:\n",
    "    amazon[str(word)] = amazon.Sentence.str.contains(\n",
    "        str(word),\n",
    "        case=False\n",
    "    )"
   ]
  },
  {
   "cell_type": "code",
   "execution_count": 42,
   "metadata": {},
   "outputs": [
    {
     "name": "stdout",
     "output_type": "stream",
     "text": [
      "Train: Number of mislabeled points out of a total 700 points : 222\n",
      "Test: Number of mislabeled points out of a total 300 points : 112\n"
     ]
    }
   ],
   "source": [
    "data = amazon[mode_good]\n",
    "target = amazon['Sentiment']\n",
    "\n",
    "# Our data is binary / boolean, so we're importing the Bernoulli classifier.\n",
    "from sklearn.naive_bayes import BernoulliNB\n",
    "from sklearn import model_selection\n",
    "\n",
    "#these data_train, etc are different than what defined above. cocneptually play different role\n",
    "data_train, data_test, target_train, target_test = sklearn.model_selection.train_test_split(\n",
    "   data, target, test_size=0.30, random_state=42)  #train_test_split makes a random choice\n",
    "\n",
    "# Instantiate our model and store it in a new variable.\n",
    "bnb = BernoulliNB()\n",
    "\n",
    "# # Fit our model to the data.\n",
    "bnb.fit(data_train, target_train)\n",
    "\n",
    "# Classify, storing the result in a new variable.\n",
    "test_pred = bnb.predict(data_test)\n",
    "train_pred = bnb.predict(data_train)\n",
    "train_confusion = pd.crosstab(target_train, train_pred)\n",
    "test_confusion = pd.crosstab(target_test, test_pred)\n",
    "\n",
    "# Display our results.\n",
    "print(\"Train: Number of mislabeled points out of a total {} points : {}\".format(\n",
    "    data_train.shape[0],\n",
    "    (target_train != train_pred).sum()\n",
    "))\n",
    "\n",
    "\n",
    "print(\"Test: Number of mislabeled points out of a total {} points : {}\".format(\n",
    "    data_test.shape[0],\n",
    "    (target_test != test_pred).sum()\n",
    "))"
   ]
  },
  {
   "cell_type": "code",
   "execution_count": 45,
   "metadata": {},
   "outputs": [
    {
     "data": {
      "text/html": [
       "<div>\n",
       "<style scoped>\n",
       "    .dataframe tbody tr th:only-of-type {\n",
       "        vertical-align: middle;\n",
       "    }\n",
       "\n",
       "    .dataframe tbody tr th {\n",
       "        vertical-align: top;\n",
       "    }\n",
       "\n",
       "    .dataframe thead th {\n",
       "        text-align: right;\n",
       "    }\n",
       "</style>\n",
       "<table border=\"1\" class=\"dataframe\">\n",
       "  <thead>\n",
       "    <tr style=\"text-align: right;\">\n",
       "      <th>col_0</th>\n",
       "      <th>False</th>\n",
       "      <th>True</th>\n",
       "    </tr>\n",
       "    <tr>\n",
       "      <th>Sentiment</th>\n",
       "      <th></th>\n",
       "      <th></th>\n",
       "    </tr>\n",
       "  </thead>\n",
       "  <tbody>\n",
       "    <tr>\n",
       "      <th>False</th>\n",
       "      <td>285</td>\n",
       "      <td>69</td>\n",
       "    </tr>\n",
       "    <tr>\n",
       "      <th>True</th>\n",
       "      <td>153</td>\n",
       "      <td>193</td>\n",
       "    </tr>\n",
       "  </tbody>\n",
       "</table>\n",
       "</div>"
      ],
      "text/plain": [
       "col_0      False  True \n",
       "Sentiment              \n",
       "False        285     69\n",
       "True         153    193"
      ]
     },
     "execution_count": 45,
     "metadata": {},
     "output_type": "execute_result"
    }
   ],
   "source": [
    "train_confusion"
   ]
  },
  {
   "cell_type": "code",
   "execution_count": 46,
   "metadata": {},
   "outputs": [
    {
     "data": {
      "text/html": [
       "<div>\n",
       "<style scoped>\n",
       "    .dataframe tbody tr th:only-of-type {\n",
       "        vertical-align: middle;\n",
       "    }\n",
       "\n",
       "    .dataframe tbody tr th {\n",
       "        vertical-align: top;\n",
       "    }\n",
       "\n",
       "    .dataframe thead th {\n",
       "        text-align: right;\n",
       "    }\n",
       "</style>\n",
       "<table border=\"1\" class=\"dataframe\">\n",
       "  <thead>\n",
       "    <tr style=\"text-align: right;\">\n",
       "      <th>col_0</th>\n",
       "      <th>False</th>\n",
       "      <th>True</th>\n",
       "    </tr>\n",
       "    <tr>\n",
       "      <th>Sentiment</th>\n",
       "      <th></th>\n",
       "      <th></th>\n",
       "    </tr>\n",
       "  </thead>\n",
       "  <tbody>\n",
       "    <tr>\n",
       "      <th>False</th>\n",
       "      <td>105</td>\n",
       "      <td>41</td>\n",
       "    </tr>\n",
       "    <tr>\n",
       "      <th>True</th>\n",
       "      <td>71</td>\n",
       "      <td>83</td>\n",
       "    </tr>\n",
       "  </tbody>\n",
       "</table>\n",
       "</div>"
      ],
      "text/plain": [
       "col_0      False  True \n",
       "Sentiment              \n",
       "False        105     41\n",
       "True          71     83"
      ]
     },
     "execution_count": 46,
     "metadata": {},
     "output_type": "execute_result"
    }
   ],
   "source": [
    "test_confusion"
   ]
  },
  {
   "cell_type": "code",
   "execution_count": 43,
   "metadata": {},
   "outputs": [
    {
     "name": "stdout",
     "output_type": "stream",
     "text": [
      "Accuracy :  0.682857142857\n",
      "Specificity :  0.805084745763\n",
      "Sensitivity :  0.557803468208\n"
     ]
    }
   ],
   "source": [
    "#Accuracy train \n",
    "accuracy=(train_confusion.iloc[0,0]+train_confusion.iloc[1,1])/len(target_train)\n",
    "print ('Accuracy : ', accuracy)\n",
    "\n",
    "#Specifity\n",
    "Specificity = train_confusion.iloc[0,0]/(train_confusion.iloc[0,1]+train_confusion.iloc[0,0])\n",
    "print('Specificity : ', Specificity )\n",
    "\n",
    "#Sensitivity\n",
    "Sensitivity = train_confusion.iloc[1,1]/(train_confusion.iloc[1,0]+train_confusion.iloc[1,1])\n",
    "print('Sensitivity : ', Sensitivity)"
   ]
  },
  {
   "cell_type": "code",
   "execution_count": 44,
   "metadata": {},
   "outputs": [
    {
     "name": "stdout",
     "output_type": "stream",
     "text": [
      "Accuracy :  0.626666666667\n",
      "Specificity :  0.719178082192\n",
      "Sensitivity :  0.538961038961\n"
     ]
    }
   ],
   "source": [
    "#Accuracy test\n",
    "accuracy=(test_confusion.iloc[0,0]+test_confusion.iloc[1,1])/len(target_test)\n",
    "print ('Accuracy : ', accuracy)\n",
    "\n",
    "#Specifity\n",
    "Specificity = test_confusion.iloc[0,0]/(test_confusion.iloc[0,1]+test_confusion.iloc[0,0])\n",
    "print('Specificity : ', Specificity )\n",
    "\n",
    "#Sensitivity\n",
    "Sensitivity = test_confusion.iloc[1,1]/(test_confusion.iloc[1,0]+test_confusion.iloc[1,1])\n",
    "print('Sensitivity : ', Sensitivity)"
   ]
  },
  {
   "cell_type": "markdown",
   "metadata": {},
   "source": [
    "Higher results in training group, possibile overfitting. Getting better at identifying the positive words, but getting worse at predicting negative reviews (although still pretty good)."
   ]
  },
  {
   "cell_type": "markdown",
   "metadata": {},
   "source": [
    "## Frequent Negative Words"
   ]
  },
  {
   "cell_type": "code",
   "execution_count": 59,
   "metadata": {},
   "outputs": [],
   "source": [
    "#look at most common words in negative reviews\n",
    "\n",
    "amazon = pd.read_csv('amazon_cells_labelled.txt', sep='\\t', header = None)\n",
    "\n",
    "amazon.columns = ['Sentence', 'Sentiment']\n",
    "\n",
    "amazon['Sentiment'] = (amazon['Sentiment'] == 0)"
   ]
  },
  {
   "cell_type": "code",
   "execution_count": 60,
   "metadata": {},
   "outputs": [],
   "source": [
    "# Outcome variable\n",
    "bad = amazon.loc[amazon.Sentiment==0,'Sentence']"
   ]
  },
  {
   "cell_type": "code",
   "execution_count": 61,
   "metadata": {},
   "outputs": [],
   "source": [
    "def modes(amz):\n",
    "    counting = {}\n",
    "    for item in amz.str.split('\\s+'):\n",
    "        for word in item:\n",
    "            if word in counting:\n",
    "                counting[word] += 1\n",
    "            else:\n",
    "                counting[word] = 1\n",
    "\n",
    "    \n",
    "    most = max(counting.values())\n",
    "\n",
    "    least = min(counting.values())\n",
    "    \n",
    "    result = []\n",
    "    #lets set the mode to words appearing more than 25 times\n",
    "    for key,value in counting.items():\n",
    "        if value >=25:\n",
    "            result.append(key)\n",
    "            \n",
    "    return result"
   ]
  },
  {
   "cell_type": "code",
   "execution_count": 62,
   "metadata": {},
   "outputs": [],
   "source": [
    "mode_bad = modes(bad)\n",
    "for word in mode_bad:\n",
    "    amazon[str(word)] = amazon.Sentence.str.contains(\n",
    "        str(word),\n",
    "        case=False\n",
    "    )"
   ]
  },
  {
   "cell_type": "code",
   "execution_count": 63,
   "metadata": {},
   "outputs": [],
   "source": [
    "data = amazon[mode_bad]\n",
    "target = amazon['Sentiment']"
   ]
  },
  {
   "cell_type": "code",
   "execution_count": 64,
   "metadata": {},
   "outputs": [
    {
     "name": "stdout",
     "output_type": "stream",
     "text": [
      "Train: Number of mislabeled points out of a total 700 points : 222\n",
      "Test: Number of mislabeled points out of a total 300 points : 112\n"
     ]
    }
   ],
   "source": [
    "# Our data is binary / boolean, so we're importing the Bernoulli classifier.\n",
    "from sklearn.naive_bayes import BernoulliNB\n",
    "from sklearn import model_selection\n",
    "\n",
    "\n",
    "#these data_train, etc are different than what defined above. cocneptually play different role\n",
    "data_train, data_test, target_train, target_test = sklearn.model_selection.train_test_split(\n",
    "   data, target, test_size=0.30, random_state=42)  #train_test_split makes a random choice\n",
    "\n",
    "# Instantiate our model and store it in a new variable.\n",
    "bnb = BernoulliNB()\n",
    "\n",
    "# # Fit our model to the data.\n",
    "bnb.fit(data_train, target_train)\n",
    "\n",
    "# Classify, storing the result in a new variable.\n",
    "test_pred = bnb.predict(data_test)\n",
    "train_pred = bnb.predict(data_train)\n",
    "train_confusion = pd.crosstab(target_train, train_pred)\n",
    "test_confusion = pd.crosstab(target_test, test_pred)\n",
    "\n",
    "# Display our results.\n",
    "print(\"Train: Number of mislabeled points out of a total {} points : {}\".format(\n",
    "    data_train.shape[0],\n",
    "    (target_train != train_pred).sum()\n",
    "))\n",
    "\n",
    "\n",
    "print(\"Test: Number of mislabeled points out of a total {} points : {}\".format(\n",
    "    data_test.shape[0],\n",
    "    (target_test != test_pred).sum()\n",
    "))"
   ]
  },
  {
   "cell_type": "code",
   "execution_count": 67,
   "metadata": {},
   "outputs": [
    {
     "data": {
      "text/html": [
       "<div>\n",
       "<style scoped>\n",
       "    .dataframe tbody tr th:only-of-type {\n",
       "        vertical-align: middle;\n",
       "    }\n",
       "\n",
       "    .dataframe tbody tr th {\n",
       "        vertical-align: top;\n",
       "    }\n",
       "\n",
       "    .dataframe thead th {\n",
       "        text-align: right;\n",
       "    }\n",
       "</style>\n",
       "<table border=\"1\" class=\"dataframe\">\n",
       "  <thead>\n",
       "    <tr style=\"text-align: right;\">\n",
       "      <th>col_0</th>\n",
       "      <th>False</th>\n",
       "      <th>True</th>\n",
       "    </tr>\n",
       "    <tr>\n",
       "      <th>Sentiment</th>\n",
       "      <th></th>\n",
       "      <th></th>\n",
       "    </tr>\n",
       "  </thead>\n",
       "  <tbody>\n",
       "    <tr>\n",
       "      <th>False</th>\n",
       "      <td>193</td>\n",
       "      <td>153</td>\n",
       "    </tr>\n",
       "    <tr>\n",
       "      <th>True</th>\n",
       "      <td>69</td>\n",
       "      <td>285</td>\n",
       "    </tr>\n",
       "  </tbody>\n",
       "</table>\n",
       "</div>"
      ],
      "text/plain": [
       "col_0      False  True \n",
       "Sentiment              \n",
       "False        193    153\n",
       "True          69    285"
      ]
     },
     "execution_count": 67,
     "metadata": {},
     "output_type": "execute_result"
    }
   ],
   "source": [
    "train_confusion"
   ]
  },
  {
   "cell_type": "code",
   "execution_count": 68,
   "metadata": {},
   "outputs": [
    {
     "data": {
      "text/html": [
       "<div>\n",
       "<style scoped>\n",
       "    .dataframe tbody tr th:only-of-type {\n",
       "        vertical-align: middle;\n",
       "    }\n",
       "\n",
       "    .dataframe tbody tr th {\n",
       "        vertical-align: top;\n",
       "    }\n",
       "\n",
       "    .dataframe thead th {\n",
       "        text-align: right;\n",
       "    }\n",
       "</style>\n",
       "<table border=\"1\" class=\"dataframe\">\n",
       "  <thead>\n",
       "    <tr style=\"text-align: right;\">\n",
       "      <th>col_0</th>\n",
       "      <th>False</th>\n",
       "      <th>True</th>\n",
       "    </tr>\n",
       "    <tr>\n",
       "      <th>Sentiment</th>\n",
       "      <th></th>\n",
       "      <th></th>\n",
       "    </tr>\n",
       "  </thead>\n",
       "  <tbody>\n",
       "    <tr>\n",
       "      <th>False</th>\n",
       "      <td>83</td>\n",
       "      <td>71</td>\n",
       "    </tr>\n",
       "    <tr>\n",
       "      <th>True</th>\n",
       "      <td>41</td>\n",
       "      <td>105</td>\n",
       "    </tr>\n",
       "  </tbody>\n",
       "</table>\n",
       "</div>"
      ],
      "text/plain": [
       "col_0      False  True \n",
       "Sentiment              \n",
       "False         83     71\n",
       "True          41    105"
      ]
     },
     "execution_count": 68,
     "metadata": {},
     "output_type": "execute_result"
    }
   ],
   "source": [
    "test_confusion"
   ]
  },
  {
   "cell_type": "code",
   "execution_count": 65,
   "metadata": {},
   "outputs": [
    {
     "name": "stdout",
     "output_type": "stream",
     "text": [
      "Accuracy :  0.682857142857\n",
      "Specificity :  0.557803468208\n",
      "Sensitivity :  0.805084745763\n"
     ]
    }
   ],
   "source": [
    "#Accuracy train \n",
    "accuracy=(train_confusion.iloc[0,0]+train_confusion.iloc[1,1])/len(target_train)\n",
    "print ('Accuracy : ', accuracy)\n",
    "\n",
    "#Specifity\n",
    "Specificity = train_confusion.iloc[0,0]/(train_confusion.iloc[0,1]+train_confusion.iloc[0,0])\n",
    "print('Specificity : ', Specificity )\n",
    "\n",
    "#Sensitivity\n",
    "Sensitivity = train_confusion.iloc[1,1]/(train_confusion.iloc[1,0]+train_confusion.iloc[1,1])\n",
    "print('Sensitivity : ', Sensitivity)"
   ]
  },
  {
   "cell_type": "code",
   "execution_count": 66,
   "metadata": {},
   "outputs": [
    {
     "name": "stdout",
     "output_type": "stream",
     "text": [
      "Accuracy :  0.626666666667\n",
      "Specificity :  0.538961038961\n",
      "Sensitivity :  0.719178082192\n"
     ]
    }
   ],
   "source": [
    "#Accuracy test\n",
    "accuracy=(test_confusion.iloc[0,0]+test_confusion.iloc[1,1])/len(target_test)\n",
    "print ('Accuracy : ', accuracy)\n",
    "\n",
    "#Specifity\n",
    "Specificity = test_confusion.iloc[0,0]/(test_confusion.iloc[0,1]+test_confusion.iloc[0,0])\n",
    "print('Specificity : ', Specificity )\n",
    "\n",
    "#Sensitivity\n",
    "Sensitivity = test_confusion.iloc[1,1]/(test_confusion.iloc[1,0]+test_confusion.iloc[1,1])\n",
    "print('Sensitivity : ', Sensitivity)\n"
   ]
  },
  {
   "cell_type": "markdown",
   "metadata": {},
   "source": [
    "Again, overfitting possible in train group as results are higher. Sensitivity showing we are getting better at identifying the positive reviews, but getting worse at identifying negative reviews."
   ]
  },
  {
   "cell_type": "markdown",
   "metadata": {},
   "source": [
    "## 5) Most Common Words Shared Between Positive and Negative Reviews"
   ]
  },
  {
   "cell_type": "code",
   "execution_count": 69,
   "metadata": {},
   "outputs": [],
   "source": [
    "amazon = pd.read_csv('amazon_cells_labelled.txt', sep='\\t', header = None)\n",
    "\n",
    "amazon.columns = ['Sentence', 'Sentiment']"
   ]
  },
  {
   "cell_type": "code",
   "execution_count": 70,
   "metadata": {},
   "outputs": [],
   "source": [
    "#turn sentiment into boolean\n",
    "amazon['Sentiment'] = (amazon['Sentiment'] == 1)"
   ]
  },
  {
   "cell_type": "code",
   "execution_count": 71,
   "metadata": {},
   "outputs": [],
   "source": [
    "# Outcome Variable\n",
    "shared = amazon.loc[:,'Sentence']"
   ]
  },
  {
   "cell_type": "code",
   "execution_count": 72,
   "metadata": {},
   "outputs": [],
   "source": [
    "def modes(amz):\n",
    "    counting = {}\n",
    "    for item in amz.str.split('\\s+'):\n",
    "        for word in item:\n",
    "            if word in counting:\n",
    "                counting[word] += 1\n",
    "            else:\n",
    "                counting[word] = 1\n",
    "                \n",
    "    most = max(counting.values())\n",
    "    \n",
    "    least = min(counting.values())\n",
    "    \n",
    "    result = []\n",
    "    #lets set the mode to words appearing more than 25 times\n",
    "    for key, value in counting.items():\n",
    "        if value >= 25:\n",
    "            result.append(key)\n",
    "            \n",
    "    return result"
   ]
  },
  {
   "cell_type": "code",
   "execution_count": 73,
   "metadata": {},
   "outputs": [],
   "source": [
    "mode_shared = modes(shared)\n",
    "for word in mode_shared:\n",
    "    amazon[str(word)] = amazon.Sentence.str.contains(\n",
    "        str(word),\n",
    "        case=False\n",
    "    )"
   ]
  },
  {
   "cell_type": "code",
   "execution_count": 74,
   "metadata": {},
   "outputs": [
    {
     "name": "stdout",
     "output_type": "stream",
     "text": [
      "Train: Number of mislabeled points out of a total 700 points : 189\n",
      "Test: Number of mislabeled points out of a total 300 points : 94\n"
     ]
    }
   ],
   "source": [
    "data = amazon[mode_shared]\n",
    "target = amazon['Sentiment']\n",
    "\n",
    "# Our data is binary / boolean, so we're importing the Bernoulli classifier.\n",
    "from sklearn.naive_bayes import BernoulliNB\n",
    "from sklearn import model_selection\n",
    "\n",
    "\n",
    "#these data_train, etc are different than what defined above. cocneptually play different role\n",
    "data_train, data_test, target_train, target_test = sklearn.model_selection.train_test_split(\n",
    "   data, target, test_size=0.30, random_state=42)  #train_test_split makes a random choice\n",
    "\n",
    "# Instantiate our model and store it in a new variable.\n",
    "bnb = BernoulliNB()\n",
    "\n",
    "# # Fit our model to the data.\n",
    "bnb.fit(data_train, target_train)\n",
    "\n",
    "# Classify, storing the result in a new variable.\n",
    "test_pred = bnb.predict(data_test)\n",
    "train_pred = bnb.predict(data_train)\n",
    "train_confusion = pd.crosstab(target_train, train_pred)\n",
    "test_confusion = pd.crosstab(target_test, test_pred)\n",
    "\n",
    "# Display our results.\n",
    "print(\"Train: Number of mislabeled points out of a total {} points : {}\".format(\n",
    "    data_train.shape[0],\n",
    "    (target_train != train_pred).sum()\n",
    "))\n",
    "\n",
    "\n",
    "print(\"Test: Number of mislabeled points out of a total {} points : {}\".format(\n",
    "    data_test.shape[0],\n",
    "    (target_test != test_pred).sum()\n",
    "))"
   ]
  },
  {
   "cell_type": "code",
   "execution_count": 75,
   "metadata": {},
   "outputs": [
    {
     "data": {
      "text/html": [
       "<div>\n",
       "<style scoped>\n",
       "    .dataframe tbody tr th:only-of-type {\n",
       "        vertical-align: middle;\n",
       "    }\n",
       "\n",
       "    .dataframe tbody tr th {\n",
       "        vertical-align: top;\n",
       "    }\n",
       "\n",
       "    .dataframe thead th {\n",
       "        text-align: right;\n",
       "    }\n",
       "</style>\n",
       "<table border=\"1\" class=\"dataframe\">\n",
       "  <thead>\n",
       "    <tr style=\"text-align: right;\">\n",
       "      <th>col_0</th>\n",
       "      <th>False</th>\n",
       "      <th>True</th>\n",
       "    </tr>\n",
       "    <tr>\n",
       "      <th>Sentiment</th>\n",
       "      <th></th>\n",
       "      <th></th>\n",
       "    </tr>\n",
       "  </thead>\n",
       "  <tbody>\n",
       "    <tr>\n",
       "      <th>False</th>\n",
       "      <td>276</td>\n",
       "      <td>78</td>\n",
       "    </tr>\n",
       "    <tr>\n",
       "      <th>True</th>\n",
       "      <td>111</td>\n",
       "      <td>235</td>\n",
       "    </tr>\n",
       "  </tbody>\n",
       "</table>\n",
       "</div>"
      ],
      "text/plain": [
       "col_0      False  True \n",
       "Sentiment              \n",
       "False        276     78\n",
       "True         111    235"
      ]
     },
     "execution_count": 75,
     "metadata": {},
     "output_type": "execute_result"
    }
   ],
   "source": [
    "train_confusion"
   ]
  },
  {
   "cell_type": "code",
   "execution_count": 76,
   "metadata": {},
   "outputs": [
    {
     "data": {
      "text/html": [
       "<div>\n",
       "<style scoped>\n",
       "    .dataframe tbody tr th:only-of-type {\n",
       "        vertical-align: middle;\n",
       "    }\n",
       "\n",
       "    .dataframe tbody tr th {\n",
       "        vertical-align: top;\n",
       "    }\n",
       "\n",
       "    .dataframe thead th {\n",
       "        text-align: right;\n",
       "    }\n",
       "</style>\n",
       "<table border=\"1\" class=\"dataframe\">\n",
       "  <thead>\n",
       "    <tr style=\"text-align: right;\">\n",
       "      <th>col_0</th>\n",
       "      <th>False</th>\n",
       "      <th>True</th>\n",
       "    </tr>\n",
       "    <tr>\n",
       "      <th>Sentiment</th>\n",
       "      <th></th>\n",
       "      <th></th>\n",
       "    </tr>\n",
       "  </thead>\n",
       "  <tbody>\n",
       "    <tr>\n",
       "      <th>False</th>\n",
       "      <td>104</td>\n",
       "      <td>42</td>\n",
       "    </tr>\n",
       "    <tr>\n",
       "      <th>True</th>\n",
       "      <td>52</td>\n",
       "      <td>102</td>\n",
       "    </tr>\n",
       "  </tbody>\n",
       "</table>\n",
       "</div>"
      ],
      "text/plain": [
       "col_0      False  True \n",
       "Sentiment              \n",
       "False        104     42\n",
       "True          52    102"
      ]
     },
     "execution_count": 76,
     "metadata": {},
     "output_type": "execute_result"
    }
   ],
   "source": [
    "test_confusion"
   ]
  },
  {
   "cell_type": "code",
   "execution_count": 81,
   "metadata": {},
   "outputs": [
    {
     "name": "stdout",
     "output_type": "stream",
     "text": [
      "Accuracy:  0.73\n",
      "Specificity:  0.779661016949\n",
      "Sensitivity:  0.679190751445\n"
     ]
    }
   ],
   "source": [
    "# Accuracy train\n",
    "accuracy = (train_confusion.iloc[0,0] + train_confusion.iloc[1,1])/len(target_train)\n",
    "print('Accuracy: ', accuracy)\n",
    "\n",
    "# Specificity\n",
    "specificity = train_confusion.iloc[0,0]/(train_confusion.iloc[0,1]+train_confusion.iloc[0,0])\n",
    "print('Specificity: ', specificity)\n",
    "\n",
    "# Sensitivity\n",
    "sensitivity = train_confusion.iloc[1,1] / (train_confusion.iloc[1,0] + train_confusion.iloc[1,1])\n",
    "print('Sensitivity: ', sensitivity)"
   ]
  },
  {
   "cell_type": "code",
   "execution_count": 84,
   "metadata": {},
   "outputs": [
    {
     "name": "stdout",
     "output_type": "stream",
     "text": [
      "Accuracy:  0.686666666667\n",
      "Specificity:  0.712328767123\n",
      "Sensitivity:  0.662337662338\n"
     ]
    }
   ],
   "source": [
    "# Accuracy test\n",
    "accuracy = (test_confusion.iloc[0,0] + test_confusion.iloc[1,1])/len(target_test)\n",
    "print('Accuracy: ', accuracy)\n",
    "\n",
    "# Specificity\n",
    "specificity = test_confusion.iloc[0,0]/(test_confusion.iloc[0,1] + test_confusion.iloc[0,0])\n",
    "print('Specificity: ', specificity)\n",
    "\n",
    "# Sensitivity\n",
    "sensitivity = test_confusion.iloc[1,1]/(test_confusion.iloc[1,0] + test_confusion.iloc[1,1])\n",
    "print('Sensitivity: ', sensitivity)"
   ]
  },
  {
   "cell_type": "code",
   "execution_count": 87,
   "metadata": {},
   "outputs": [
    {
     "data": {
      "text/plain": [
       "0.69900000000000007"
      ]
     },
     "execution_count": 87,
     "metadata": {},
     "output_type": "execute_result"
    }
   ],
   "source": [
    "scores = model_selection.cross_val_score(bnb,data,target,cv=10)#combined accuracy\n",
    "# cross_val_score will give test scores for each of the different splits\n",
    "# prints accuracy\n",
    "scores.mean()"
   ]
  },
  {
   "cell_type": "markdown",
   "metadata": {},
   "source": [
    "Accuracy, Specificity and sensitivity all higher in training group, again, possible overfitting. Specificity is back up, so we are getting better at prediciting the negative reviews, and Sensitivity is down but still pretty good, so positive reviews are being predicted well. I believe this iteration has the most optimal balance between Specificity and Sensitivity, though not the highest of each. However, combined, they are the highest."
   ]
  },
  {
   "cell_type": "code",
   "execution_count": null,
   "metadata": {},
   "outputs": [],
   "source": []
  }
 ],
 "metadata": {
  "kernelspec": {
   "display_name": "Python 3",
   "language": "python",
   "name": "python3"
  },
  "language_info": {
   "codemirror_mode": {
    "name": "ipython",
    "version": 3
   },
   "file_extension": ".py",
   "mimetype": "text/x-python",
   "name": "python",
   "nbconvert_exporter": "python",
   "pygments_lexer": "ipython3",
   "version": "3.6.3"
  }
 },
 "nbformat": 4,
 "nbformat_minor": 2
}
