{
 "cells": [
  {
   "cell_type": "markdown",
   "metadata": {},
   "source": [
    "## 1. You work at an e-commerce company that sells three goods: widgets, doodads, and fizzbangs. The head of advertising asks you which they should feature in their new advertising campaign. You have data on individual visitors' sessions (activity on a website, pageviews, and purchases), as well as whether or not those users converted from an advertisement for that session. You also have the cost and price information for the goods."
   ]
  },
  {
   "cell_type": "markdown",
   "metadata": {},
   "source": [
    "Questions to ask:\n",
    "1.\tWhat is the goal of the ad campaign? \n",
    "2.\tAre we simply trying to drive revenue?\n",
    "3.\tIs one of the products in need of a boost in sales?\n",
    "\n",
    "What I will look at:\n",
    "1.\tThe conversion from for each product.\n",
    "a.\tConversion from advertisement\n",
    "b.\tConversion not from advertisement\n",
    "2.\tWeb activity for each product (pageview data).\n",
    "3.\tExpected profit from each product.\n",
    "\n",
    "Assessment/Testing:\n",
    "1.\tWhich product has the highest conversion rate from advertisement?\n",
    "•\tFrom here, compare this with the web activity data to see if the advertised items are the same ones with highest web activity. If not, then this is a likely indicator that the product needs the advertisement investment.\n",
    "2.\tWhat is the expected number of sales for the advertised product?\n",
    "•\tGiven the number of sales for the advertised good, I can calculate the profit as I have the cost and price data of each product.\n",
    "3.\tPairing information for total purchases, page views and advertising conversion, what is the expected profit of x where x is the product chosen to be advertised?\n"
   ]
  },
  {
   "cell_type": "markdown",
   "metadata": {},
   "source": [
    "## 2. You work at a web design company that offers to build websites for clients. Signups have slowed, and you are tasked with finding out why. The onboarding funnel has three steps: email and password signup, plan choice, and payment. On a user level you have information on what steps they have completed as well as timestamps for all of those events for the past 3 years. You also have information on marketing spend on a weekly level."
   ]
  },
  {
   "cell_type": "markdown",
   "metadata": {},
   "source": [
    "Assessment:\n",
    "1.\tAs a preliminary assessment, what step in the funnel does the user abandon cart the most?\n",
    "•\tCompare that with the pattern that existed before signups slowed down.\n",
    "2.\tWhat do the timestamps say? Are users spending more time on a specific step? \n",
    "•\tCompare this to historical data as well.\n",
    "•\tExample: If we changed payment systems recently and we see users are spending more time on the payment step without converting, this may be because it is not clear on how to complete the payment process from a user perspective.\n",
    "3.\tLook at completed conversion in comparison to weekly marketing spend. If the marketing spend drops, this could directly correlate to why sign ups slow down.\n"
   ]
  },
  {
   "cell_type": "markdown",
   "metadata": {},
   "source": [
    "## 3. You work at a hotel website and currently the website ranks search results by price. For simplicity's sake, let's say it's a website for one city with 100 hotels. You are tasked with proposing a better ranking system. You have session information, price information for the hotels, and whether each hotel is currently available."
   ]
  },
  {
   "cell_type": "markdown",
   "metadata": {},
   "source": [
    "Assessment:\n",
    "1.\tFactor in availability into the ranking system. This is a no brainer. If a hotel is ranked first because of price but is not available, then this ranking is useless and only hinders conversion. Therefore, have all hotels with availability supersede hotels without availability.\n",
    "2.\tEvaluate conversion 3, 6, and 18 months after implementation to see whether this new ranking system is of greater value to end-user.\n",
    "3.\tConduct a t-test to see if the increase in session occurrence and session duration is significant relative to historical session occurrence and duration.\n"
   ]
  },
  {
   "cell_type": "markdown",
   "metadata": {},
   "source": [
    "## 4. You work at a social network, and the management is worried about churn (users stopping using the product). You are tasked with finding out if their churn is atypical. You have three years of data for users with an entry for every time they've logged in, including the timestamp and length of session."
   ]
  },
  {
   "cell_type": "markdown",
   "metadata": {},
   "source": [
    "Questions/Assessment:\n",
    "1.\tFirst, what does management define as “atypical”? What is the social networks “typical” churn rate look like?\n",
    "\n",
    "What I will look at:\n",
    "1.\tAverage time per session.\n",
    "2.\tChurn per user and correlate with time.\n",
    "3.\tAverage churn per year/month compared to previous years/months.\n",
    "\n",
    "Assessment:\n",
    "1.\tCompute the mean duration between visits over time at the user level. \n",
    "2.\tCompute average session length. This could indicate a gradual decrease in interest or it could be sudden.\n",
    "3.\tLogin frequency over time.\n",
    "4.\tKeep in mind tent pole events. Did we change a feature that users did not like or did not intuitively understand how to use? Was there more drop off around then?\n"
   ]
  },
  {
   "cell_type": "code",
   "execution_count": null,
   "metadata": {},
   "outputs": [],
   "source": []
  }
 ],
 "metadata": {
  "kernelspec": {
   "display_name": "Python 3",
   "language": "python",
   "name": "python3"
  },
  "language_info": {
   "codemirror_mode": {
    "name": "ipython",
    "version": 3
   },
   "file_extension": ".py",
   "mimetype": "text/x-python",
   "name": "python",
   "nbconvert_exporter": "python",
   "pygments_lexer": "ipython3",
   "version": "3.6.3"
  }
 },
 "nbformat": 4,
 "nbformat_minor": 2
}
