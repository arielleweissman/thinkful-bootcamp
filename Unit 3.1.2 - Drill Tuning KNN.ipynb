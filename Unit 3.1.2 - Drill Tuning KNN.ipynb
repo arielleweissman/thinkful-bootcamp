{
 "cells": [
  {
   "cell_type": "markdown",
   "metadata": {
    "collapsed": true
   },
   "source": [
    "## Drill\n",
    "\n",
    "Let's say we work at a credit card company and we're trying to figure out if people are going to pay their bills on time. We have everyone's purchases, split into four main categories: groceries, dining out, utilities, and entertainment. What are some ways you might use KNN to create this model? What aspects of KNNN would be useful? Write up your thoughts and submit."
   ]
  },
  {
   "cell_type": "markdown",
   "metadata": {},
   "source": [
    "KNN would be usefull in identifying similiar credit card holder payment behavior, based on their spending activity within the 4 categories. I can then classify them based on their likelihood to pay on time. There are variety of factors which could influence a card holder to pay their bill on time. This type of model is useful in trying to understand the relationship of these factors on the outcome variable."
   ]
  },
  {
   "cell_type": "markdown",
   "metadata": {},
   "source": [
    "1) The first thing I would is to look at the dat and understand the relationship that each variable has to the outcome variables. I will also look for any correlations these inputs have with each other and will then make any necessary decisions to drop them baswed on their impact on my model in predicting the outcome"
   ]
  },
  {
   "cell_type": "markdown",
   "metadata": {},
   "source": [
    "2) I would then consider normalizing the data. Since, between these 4 categories, there are likely vastly different bounds and ranges based on cost. Normalizing the data will highlight the effects resulting from the share in spend allocated to different areas (are people who spend more on entertainment less likely to pay their bill since they spend frivolously, or does this apply to those who spend more on utilities?)"
   ]
  },
  {
   "cell_type": "markdown",
   "metadata": {},
   "source": [
    "3) Weight the variables. Some are more important when predicting late payments, thus, those variables should be weighted by distance. Those data points now, with lower distances will have a higher weight than higher distances."
   ]
  },
  {
   "cell_type": "markdown",
   "metadata": {},
   "source": [
    "4) Determine K. This should be done by running multiple models to find a number of K's that gives a well defind decision space. I would use cross validation to confirm the results are consistent."
   ]
  },
  {
   "cell_type": "code",
   "execution_count": null,
   "metadata": {
    "collapsed": true
   },
   "outputs": [],
   "source": []
  }
 ],
 "metadata": {
  "kernelspec": {
   "display_name": "Python 3",
   "language": "python",
   "name": "python3"
  },
  "language_info": {
   "codemirror_mode": {
    "name": "ipython",
    "version": 3
   },
   "file_extension": ".py",
   "mimetype": "text/x-python",
   "name": "python",
   "nbconvert_exporter": "python",
   "pygments_lexer": "ipython3",
   "version": "3.6.3"
  }
 },
 "nbformat": 4,
 "nbformat_minor": 2
}
