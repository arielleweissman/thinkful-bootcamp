{
 "cells": [
  {
   "cell_type": "markdown",
   "metadata": {},
   "source": [
    "## Analysis that Highlight experimental hypothesis\n",
    "\n",
    "Here I am looking at battles won and loss by Kings of Westeros. I want to analyze the contributing factors that go into a victorious battle."
   ]
  },
  {
   "cell_type": "code",
   "execution_count": 152,
   "metadata": {},
   "outputs": [],
   "source": [
    "import numpy as np\n",
    "import pandas as pd\n",
    "import matplotlib.pyplot as plt\n",
    "import seaborn as sns\n",
    "%matplotlib inline"
   ]
  },
  {
   "cell_type": "code",
   "execution_count": 170,
   "metadata": {},
   "outputs": [],
   "source": [
    "battles = pd.read_csv('battles.csv')"
   ]
  },
  {
   "cell_type": "code",
   "execution_count": 171,
   "metadata": {},
   "outputs": [
    {
     "data": {
      "text/plain": [
       "Index(['name', 'year', 'battle_number', 'attacker_king', 'defender_king',\n",
       "       'attacker_1', 'attacker_2', 'attacker_3', 'attacker_4', 'defender_1',\n",
       "       'defender_2', 'defender_3', 'defender_4', 'attacker_outcome',\n",
       "       'battle_type', 'major_death', 'major_capture', 'attacker_size',\n",
       "       'defender_size', 'attacker_commander', 'defender_commander', 'summer',\n",
       "       'location', 'region', 'note'],\n",
       "      dtype='object')"
      ]
     },
     "execution_count": 171,
     "metadata": {},
     "output_type": "execute_result"
    }
   ],
   "source": [
    "battles.columns"
   ]
  },
  {
   "cell_type": "code",
   "execution_count": 172,
   "metadata": {},
   "outputs": [
    {
     "data": {
      "text/html": [
       "<div>\n",
       "<style scoped>\n",
       "    .dataframe tbody tr th:only-of-type {\n",
       "        vertical-align: middle;\n",
       "    }\n",
       "\n",
       "    .dataframe tbody tr th {\n",
       "        vertical-align: top;\n",
       "    }\n",
       "\n",
       "    .dataframe thead th {\n",
       "        text-align: right;\n",
       "    }\n",
       "</style>\n",
       "<table border=\"1\" class=\"dataframe\">\n",
       "  <thead>\n",
       "    <tr style=\"text-align: right;\">\n",
       "      <th></th>\n",
       "      <th>name</th>\n",
       "      <th>year</th>\n",
       "      <th>battle_number</th>\n",
       "      <th>attacker_king</th>\n",
       "      <th>defender_king</th>\n",
       "      <th>attacker_1</th>\n",
       "      <th>attacker_2</th>\n",
       "      <th>attacker_3</th>\n",
       "      <th>attacker_4</th>\n",
       "      <th>defender_1</th>\n",
       "      <th>...</th>\n",
       "      <th>major_death</th>\n",
       "      <th>major_capture</th>\n",
       "      <th>attacker_size</th>\n",
       "      <th>defender_size</th>\n",
       "      <th>attacker_commander</th>\n",
       "      <th>defender_commander</th>\n",
       "      <th>summer</th>\n",
       "      <th>location</th>\n",
       "      <th>region</th>\n",
       "      <th>note</th>\n",
       "    </tr>\n",
       "  </thead>\n",
       "  <tbody>\n",
       "    <tr>\n",
       "      <th>0</th>\n",
       "      <td>Battle of the Golden Tooth</td>\n",
       "      <td>298</td>\n",
       "      <td>1</td>\n",
       "      <td>Joffrey/Tommen Baratheon</td>\n",
       "      <td>Robb Stark</td>\n",
       "      <td>Lannister</td>\n",
       "      <td>NaN</td>\n",
       "      <td>NaN</td>\n",
       "      <td>NaN</td>\n",
       "      <td>Tully</td>\n",
       "      <td>...</td>\n",
       "      <td>1.0</td>\n",
       "      <td>0.0</td>\n",
       "      <td>15000.0</td>\n",
       "      <td>4000.0</td>\n",
       "      <td>Jaime Lannister</td>\n",
       "      <td>Clement Piper, Vance</td>\n",
       "      <td>1.0</td>\n",
       "      <td>Golden Tooth</td>\n",
       "      <td>The Westerlands</td>\n",
       "      <td>NaN</td>\n",
       "    </tr>\n",
       "    <tr>\n",
       "      <th>1</th>\n",
       "      <td>Battle at the Mummer's Ford</td>\n",
       "      <td>298</td>\n",
       "      <td>2</td>\n",
       "      <td>Joffrey/Tommen Baratheon</td>\n",
       "      <td>Robb Stark</td>\n",
       "      <td>Lannister</td>\n",
       "      <td>NaN</td>\n",
       "      <td>NaN</td>\n",
       "      <td>NaN</td>\n",
       "      <td>Baratheon</td>\n",
       "      <td>...</td>\n",
       "      <td>1.0</td>\n",
       "      <td>0.0</td>\n",
       "      <td>NaN</td>\n",
       "      <td>120.0</td>\n",
       "      <td>Gregor Clegane</td>\n",
       "      <td>Beric Dondarrion</td>\n",
       "      <td>1.0</td>\n",
       "      <td>Mummer's Ford</td>\n",
       "      <td>The Riverlands</td>\n",
       "      <td>NaN</td>\n",
       "    </tr>\n",
       "    <tr>\n",
       "      <th>2</th>\n",
       "      <td>Battle of Riverrun</td>\n",
       "      <td>298</td>\n",
       "      <td>3</td>\n",
       "      <td>Joffrey/Tommen Baratheon</td>\n",
       "      <td>Robb Stark</td>\n",
       "      <td>Lannister</td>\n",
       "      <td>NaN</td>\n",
       "      <td>NaN</td>\n",
       "      <td>NaN</td>\n",
       "      <td>Tully</td>\n",
       "      <td>...</td>\n",
       "      <td>0.0</td>\n",
       "      <td>1.0</td>\n",
       "      <td>15000.0</td>\n",
       "      <td>10000.0</td>\n",
       "      <td>Jaime Lannister, Andros Brax</td>\n",
       "      <td>Edmure Tully, Tytos Blackwood</td>\n",
       "      <td>1.0</td>\n",
       "      <td>Riverrun</td>\n",
       "      <td>The Riverlands</td>\n",
       "      <td>NaN</td>\n",
       "    </tr>\n",
       "    <tr>\n",
       "      <th>3</th>\n",
       "      <td>Battle of the Green Fork</td>\n",
       "      <td>298</td>\n",
       "      <td>4</td>\n",
       "      <td>Robb Stark</td>\n",
       "      <td>Joffrey/Tommen Baratheon</td>\n",
       "      <td>Stark</td>\n",
       "      <td>NaN</td>\n",
       "      <td>NaN</td>\n",
       "      <td>NaN</td>\n",
       "      <td>Lannister</td>\n",
       "      <td>...</td>\n",
       "      <td>1.0</td>\n",
       "      <td>1.0</td>\n",
       "      <td>18000.0</td>\n",
       "      <td>20000.0</td>\n",
       "      <td>Roose Bolton, Wylis Manderly, Medger Cerwyn, H...</td>\n",
       "      <td>Tywin Lannister, Gregor Clegane, Kevan Lannist...</td>\n",
       "      <td>1.0</td>\n",
       "      <td>Green Fork</td>\n",
       "      <td>The Riverlands</td>\n",
       "      <td>NaN</td>\n",
       "    </tr>\n",
       "    <tr>\n",
       "      <th>4</th>\n",
       "      <td>Battle of the Whispering Wood</td>\n",
       "      <td>298</td>\n",
       "      <td>5</td>\n",
       "      <td>Robb Stark</td>\n",
       "      <td>Joffrey/Tommen Baratheon</td>\n",
       "      <td>Stark</td>\n",
       "      <td>Tully</td>\n",
       "      <td>NaN</td>\n",
       "      <td>NaN</td>\n",
       "      <td>Lannister</td>\n",
       "      <td>...</td>\n",
       "      <td>1.0</td>\n",
       "      <td>1.0</td>\n",
       "      <td>1875.0</td>\n",
       "      <td>6000.0</td>\n",
       "      <td>Robb Stark, Brynden Tully</td>\n",
       "      <td>Jaime Lannister</td>\n",
       "      <td>1.0</td>\n",
       "      <td>Whispering Wood</td>\n",
       "      <td>The Riverlands</td>\n",
       "      <td>NaN</td>\n",
       "    </tr>\n",
       "  </tbody>\n",
       "</table>\n",
       "<p>5 rows × 25 columns</p>\n",
       "</div>"
      ],
      "text/plain": [
       "                            name  year  battle_number  \\\n",
       "0     Battle of the Golden Tooth   298              1   \n",
       "1    Battle at the Mummer's Ford   298              2   \n",
       "2             Battle of Riverrun   298              3   \n",
       "3       Battle of the Green Fork   298              4   \n",
       "4  Battle of the Whispering Wood   298              5   \n",
       "\n",
       "              attacker_king             defender_king attacker_1 attacker_2  \\\n",
       "0  Joffrey/Tommen Baratheon                Robb Stark  Lannister        NaN   \n",
       "1  Joffrey/Tommen Baratheon                Robb Stark  Lannister        NaN   \n",
       "2  Joffrey/Tommen Baratheon                Robb Stark  Lannister        NaN   \n",
       "3                Robb Stark  Joffrey/Tommen Baratheon      Stark        NaN   \n",
       "4                Robb Stark  Joffrey/Tommen Baratheon      Stark      Tully   \n",
       "\n",
       "  attacker_3 attacker_4 defender_1 ...  major_death  major_capture  \\\n",
       "0        NaN        NaN      Tully ...          1.0            0.0   \n",
       "1        NaN        NaN  Baratheon ...          1.0            0.0   \n",
       "2        NaN        NaN      Tully ...          0.0            1.0   \n",
       "3        NaN        NaN  Lannister ...          1.0            1.0   \n",
       "4        NaN        NaN  Lannister ...          1.0            1.0   \n",
       "\n",
       "   attacker_size defender_size  \\\n",
       "0        15000.0        4000.0   \n",
       "1            NaN         120.0   \n",
       "2        15000.0       10000.0   \n",
       "3        18000.0       20000.0   \n",
       "4         1875.0        6000.0   \n",
       "\n",
       "                                  attacker_commander  \\\n",
       "0                                    Jaime Lannister   \n",
       "1                                     Gregor Clegane   \n",
       "2                       Jaime Lannister, Andros Brax   \n",
       "3  Roose Bolton, Wylis Manderly, Medger Cerwyn, H...   \n",
       "4                          Robb Stark, Brynden Tully   \n",
       "\n",
       "                                  defender_commander  summer         location  \\\n",
       "0                               Clement Piper, Vance     1.0     Golden Tooth   \n",
       "1                                   Beric Dondarrion     1.0    Mummer's Ford   \n",
       "2                      Edmure Tully, Tytos Blackwood     1.0         Riverrun   \n",
       "3  Tywin Lannister, Gregor Clegane, Kevan Lannist...     1.0       Green Fork   \n",
       "4                                    Jaime Lannister     1.0  Whispering Wood   \n",
       "\n",
       "            region note  \n",
       "0  The Westerlands  NaN  \n",
       "1   The Riverlands  NaN  \n",
       "2   The Riverlands  NaN  \n",
       "3   The Riverlands  NaN  \n",
       "4   The Riverlands  NaN  \n",
       "\n",
       "[5 rows x 25 columns]"
      ]
     },
     "execution_count": 172,
     "metadata": {},
     "output_type": "execute_result"
    }
   ],
   "source": [
    "battles.head()"
   ]
  },
  {
   "cell_type": "markdown",
   "metadata": {},
   "source": [
    "## Kings on the offensive\n",
    "The data has each king’s performance when he was both the agressor and the defender. Does making the first move help? or does it hurt?\n",
    "\n",
    "Let’s look at how each king faired when he was the attacker."
   ]
  },
  {
   "cell_type": "code",
   "execution_count": 173,
   "metadata": {},
   "outputs": [],
   "source": [
    "#Replace strings with numbers\n",
    "battles.attacker_outcome.replace('win',1,inplace=True)\n",
    "battles.attacker_outcome.replace('loss',0,inplace=True)\n",
    "battles.attacker_outcome.fillna(0,inplace=True)"
   ]
  },
  {
   "cell_type": "code",
   "execution_count": 174,
   "metadata": {},
   "outputs": [
    {
     "data": {
      "text/plain": [
       "(array([0, 1, 2, 3]), <a list of 4 Text xticklabel objects>)"
      ]
     },
     "execution_count": 174,
     "metadata": {},
     "output_type": "execute_result"
    },
    {
     "data": {
      "image/png": "[encoded data removed]",
      "text/plain": [
       "<matplotlib.figure.Figure at 0x11366130>"
      ]
     },
     "metadata": {},
     "output_type": "display_data"
    }
   ],
   "source": [
    "#Attacker kings army size and outcome\n",
    "sns.barplot(x='attacker_king', y='attacker_size', hue='attacker_outcome', data=battles)\n",
    "plt.xticks(rotation=30)"
   ]
  },
  {
   "cell_type": "code",
   "execution_count": 175,
   "metadata": {},
   "outputs": [
    {
     "data": {
      "text/plain": [
       "[[<matplotlib.axis.XTick at 0x113c7cd0>,\n",
       "  <matplotlib.axis.XTick at 0x11463ff0>,\n",
       "  <matplotlib.axis.XTick at 0x11475450>,\n",
       "  <matplotlib.axis.XTick at 0x11495690>,\n",
       "  <matplotlib.axis.XTick at 0x11495a30>,\n",
       "  <matplotlib.axis.XTick at 0x11495dd0>,\n",
       "  <matplotlib.axis.XTick at 0x1149b1f0>,\n",
       "  <matplotlib.axis.XTick at 0x11495170>,\n",
       "  <matplotlib.axis.XTick at 0x114a46b0>],\n",
       " [Text(0,0,'Baratheon'),\n",
       "  Text(0,0,'Bolton'),\n",
       "  Text(0,0,'Bracken'),\n",
       "  Text(0,0,'Darry'),\n",
       "  Text(0,0,'Free folk'),\n",
       "  Text(0,0,'Frey'),\n",
       "  Text(0,0,'Greyjoy'),\n",
       "  Text(0,0,'Lannister'),\n",
       "  Text(0,0,'Stark')]]"
      ]
     },
     "execution_count": 175,
     "metadata": {},
     "output_type": "execute_result"
    },
    {
     "data": {
      "image/png": "[encoded data removed]",
      "text/plain": [
       "<matplotlib.figure.Figure at 0x113c4eb0>"
      ]
     },
     "metadata": {},
     "output_type": "display_data"
    }
   ],
   "source": [
    "battles['battle_size']=battles['attacker_size'].fillna(0)+battles['defender_size'].fillna(0)\n",
    "battles['defender_king']=battles['defender_king'].fillna('NA')\n",
    "battles['attacker_king']=battles['attacker_king'].fillna('NA')\n",
    "battles['attacker_outcome']=battles['attacker_outcome'].fillna('NA')\n",
    "\n",
    "battles_win=battles[['attacker_1', 'attacker_outcome']]\n",
    "\n",
    "battles_los=battles_win.loc[battles_win['attacker_outcome']==0]\n",
    "battles_win=battles_win.loc[battles_win['attacker_outcome']==1]\n",
    "battles_win=battles_win.groupby(['attacker_1'],as_index=False).count()\n",
    "battles_los=battles_los.groupby(['attacker_1'],as_index=False).count()\n",
    "battles_win.rename(columns={'attacker_outcome':'wins'}, inplace=True)\n",
    "battles_los.rename(columns={'attacker_outcome':'loss'}, inplace=True)\n",
    "\n",
    "battles_com = pd.merge(battles_win, battles_los, on = 'attacker_1', how='outer')\n",
    "battles_com['wins'] = battles_com['wins'].fillna(0)\n",
    "battles_com['loss'] = battles_com['loss'].fillna(0)\n",
    "battles_com = battles_com.sort_values('attacker_1')\n",
    "Xu1, X1 = np.unique(battles_com['attacker_1'], return_inverse=True)\n",
    "\n",
    "ax = battles_com[['wins','loss']].plot(kind='bar')\n",
    "ax.set(xticks=range(len(Xu1)),xticklabels=Xu1)"
   ]
  },
  {
   "cell_type": "code",
   "execution_count": 176,
   "metadata": {},
   "outputs": [
    {
     "data": {
      "text/html": [
       "<div>\n",
       "<style scoped>\n",
       "    .dataframe tbody tr th:only-of-type {\n",
       "        vertical-align: middle;\n",
       "    }\n",
       "\n",
       "    .dataframe tbody tr th {\n",
       "        vertical-align: top;\n",
       "    }\n",
       "\n",
       "    .dataframe thead th {\n",
       "        text-align: right;\n",
       "    }\n",
       "</style>\n",
       "<table border=\"1\" class=\"dataframe\">\n",
       "  <thead>\n",
       "    <tr style=\"text-align: right;\">\n",
       "      <th></th>\n",
       "      <th>attacker_king</th>\n",
       "      <th>wins</th>\n",
       "      <th>loss</th>\n",
       "    </tr>\n",
       "  </thead>\n",
       "  <tbody>\n",
       "    <tr>\n",
       "      <th>0</th>\n",
       "      <td>Balon/Euron Greyjoy</td>\n",
       "      <td>7</td>\n",
       "      <td>0.0</td>\n",
       "    </tr>\n",
       "    <tr>\n",
       "      <th>1</th>\n",
       "      <td>Joffrey/Tommen Baratheon</td>\n",
       "      <td>12</td>\n",
       "      <td>1.0</td>\n",
       "    </tr>\n",
       "    <tr>\n",
       "      <th>2</th>\n",
       "      <td>Robb Stark</td>\n",
       "      <td>8</td>\n",
       "      <td>2.0</td>\n",
       "    </tr>\n",
       "    <tr>\n",
       "      <th>3</th>\n",
       "      <td>Stannis Baratheon</td>\n",
       "      <td>2</td>\n",
       "      <td>3.0</td>\n",
       "    </tr>\n",
       "  </tbody>\n",
       "</table>\n",
       "</div>"
      ],
      "text/plain": [
       "              attacker_king  wins  loss\n",
       "0       Balon/Euron Greyjoy     7   0.0\n",
       "1  Joffrey/Tommen Baratheon    12   1.0\n",
       "2                Robb Stark     8   2.0\n",
       "3         Stannis Baratheon     2   3.0"
      ]
     },
     "execution_count": 176,
     "metadata": {},
     "output_type": "execute_result"
    }
   ],
   "source": [
    "battles['battle_size']=battles['attacker_size'].fillna(0)+battles['defender_size'].fillna(0)\n",
    "battles['defender_king']=battles['defender_king'].fillna('NA')\n",
    "battles['attacker_king']=battles['attacker_king'].fillna('NA')\n",
    "battles['attacker_outcome']=battles['attacker_outcome'].fillna('NA')\n",
    "\n",
    "battles_win_king=battles[['attacker_king', 'attacker_outcome']]\n",
    "\n",
    "battles_los_king=battles_win_king.loc[battles_win_king['attacker_outcome']==0]\n",
    "battles_win_king=battles_win_king.loc[battles_win_king['attacker_outcome']==1]\n",
    "battles_win_king=battles_win_king.groupby(['attacker_king'],as_index=False).count()\n",
    "battles_los_king=battles_los_king.groupby(['attacker_king'],as_index=False).count()\n",
    "battles_win_king.rename(columns={'attacker_outcome':'wins'}, inplace=True)\n",
    "battles_los_king.rename(columns={'attacker_outcome':'loss'}, inplace=True)\n",
    "\n",
    "battles_com_king = pd.merge(battles_win_king, battles_los_king, on = 'attacker_king', how='outer')\n",
    "battles_com_king['wins'] = battles_com_king['wins'].fillna(0)\n",
    "battles_com_king['loss'] = battles_com_king['loss'].fillna(0)\n",
    "battles_com_king = battles_com_king.sort_values('attacker_king')\n",
    "battles_com_king.fillna(0)"
   ]
  },
  {
   "cell_type": "code",
   "execution_count": 177,
   "metadata": {},
   "outputs": [
    {
     "data": {
      "text/plain": [
       "(array([0, 1, 2, 3]), <a list of 4 Text xticklabel objects>)"
      ]
     },
     "execution_count": 177,
     "metadata": {},
     "output_type": "execute_result"
    },
    {
     "data": {
      "image/png": "[encoded data removed]",
      "text/plain": [
       "<matplotlib.figure.Figure at 0x113c45b0>"
      ]
     },
     "metadata": {},
     "output_type": "display_data"
    }
   ],
   "source": [
    "Xu1, X1 = np.unique(battles_com_king['attacker_king'], return_inverse=True)\n",
    "\n",
    "ax = battles_com_king[['wins','loss']].plot(kind='bar')\n",
    "ax.set(xticks=range(len(Xu1)),xticklabels=Xu1)\n",
    "plt.xticks(rotation=90)"
   ]
  },
  {
   "cell_type": "markdown",
   "metadata": {},
   "source": [
    ">- Joffrey/Tommen had the most wins as attacker king with 12, and only 1 loss.\n",
    ">- Robb Stark fared well as attacker - 8 wins and 2 losses.\n",
    ">- Balon/Euron went undefeated at 7-0.\n",
    ">- Stannis Baratheon had 2 wins and 3 loss as attacker."
   ]
  },
  {
   "cell_type": "code",
   "execution_count": 178,
   "metadata": {
    "scrolled": true
   },
   "outputs": [
    {
     "data": {
      "text/html": [
       "<div>\n",
       "<style scoped>\n",
       "    .dataframe tbody tr th:only-of-type {\n",
       "        vertical-align: middle;\n",
       "    }\n",
       "\n",
       "    .dataframe tbody tr th {\n",
       "        vertical-align: top;\n",
       "    }\n",
       "\n",
       "    .dataframe thead th {\n",
       "        text-align: right;\n",
       "    }\n",
       "</style>\n",
       "<table border=\"1\" class=\"dataframe\">\n",
       "  <thead>\n",
       "    <tr style=\"text-align: right;\">\n",
       "      <th></th>\n",
       "      <th>defender_king</th>\n",
       "      <th>wins</th>\n",
       "      <th>loss</th>\n",
       "    </tr>\n",
       "  </thead>\n",
       "  <tbody>\n",
       "    <tr>\n",
       "      <th>0</th>\n",
       "      <td>Balon/Euron Greyjoy</td>\n",
       "      <td>3.0</td>\n",
       "      <td>0.0</td>\n",
       "    </tr>\n",
       "    <tr>\n",
       "      <th>1</th>\n",
       "      <td>Joffrey/Tommen Baratheon</td>\n",
       "      <td>9.0</td>\n",
       "      <td>4.0</td>\n",
       "    </tr>\n",
       "    <tr>\n",
       "      <th>5</th>\n",
       "      <td>Mance Rayder</td>\n",
       "      <td>0.0</td>\n",
       "      <td>1.0</td>\n",
       "    </tr>\n",
       "    <tr>\n",
       "      <th>2</th>\n",
       "      <td>Renly Baratheon</td>\n",
       "      <td>1.0</td>\n",
       "      <td>0.0</td>\n",
       "    </tr>\n",
       "    <tr>\n",
       "      <th>3</th>\n",
       "      <td>Robb Stark</td>\n",
       "      <td>14.0</td>\n",
       "      <td>1.0</td>\n",
       "    </tr>\n",
       "    <tr>\n",
       "      <th>4</th>\n",
       "      <td>Stannis Baratheon</td>\n",
       "      <td>2.0</td>\n",
       "      <td>0.0</td>\n",
       "    </tr>\n",
       "  </tbody>\n",
       "</table>\n",
       "</div>"
      ],
      "text/plain": [
       "              defender_king  wins  loss\n",
       "0       Balon/Euron Greyjoy   3.0   0.0\n",
       "1  Joffrey/Tommen Baratheon   9.0   4.0\n",
       "5              Mance Rayder   0.0   1.0\n",
       "2           Renly Baratheon   1.0   0.0\n",
       "3                Robb Stark  14.0   1.0\n",
       "4         Stannis Baratheon   2.0   0.0"
      ]
     },
     "execution_count": 178,
     "metadata": {},
     "output_type": "execute_result"
    }
   ],
   "source": [
    "battles['battle_size']=battles['attacker_size'].fillna(0)+battles['defender_size'].fillna(0)\n",
    "battles['defender_king']=battles['defender_king'].fillna('NA')\n",
    "battles['attacker_king']=battles['attacker_king'].fillna('NA')\n",
    "battles['attacker_outcome']=battles['attacker_outcome'].fillna('NA')\n",
    "\n",
    "battles_win_king=battles[['defender_king', 'attacker_outcome']]\n",
    "\n",
    "battles_los_king=battles_win_king.loc[battles_win_king['attacker_outcome']==0]\n",
    "battles_win_king=battles_win_king.loc[battles_win_king['attacker_outcome']==1]\n",
    "battles_win_king=battles_win_king.groupby(['defender_king'],as_index=False).count()\n",
    "battles_los_king=battles_los_king.groupby(['defender_king'],as_index=False).count()\n",
    "battles_win_king.rename(columns={'attacker_outcome':'wins'}, inplace=True)\n",
    "battles_los_king.rename(columns={'attacker_outcome':'loss'}, inplace=True)\n",
    "\n",
    "battles_com_king = pd.merge(battles_win_king, battles_los_king, on = 'defender_king', how='outer')\n",
    "battles_com_king['wins'] = battles_com_king['wins'].fillna(0)\n",
    "battles_com_king['loss'] = battles_com_king['loss'].fillna(0)\n",
    "battles_com_king.fillna(0)\n",
    "battles_com_king = battles_com_king.sort_values('defender_king')\n",
    "battles_com_king\n",
    "\n",
    "#Xu1, X1 = np.unique(battles_com_king['defender_king'], return_inverse=True)\n",
    "#ax = battles_com_king[['wins','loss']].plot(kind='bar')\n",
    "#ax.set(xticks=range(len(Xu1)),xticklabels=Xu1)\n",
    "#plt.xticks(rotation=90)"
   ]
  },
  {
   "cell_type": "markdown",
   "metadata": {},
   "source": [
    "## The Problem\n",
    "\n",
    "Stannis Baratheon is tired of losing battles. How can he win more battles? Losing battles results in loss of soldiers therefore weakening his army and chances of ruling the seven kingdoms. When interviewed, soldiers felt they came to defeat because they were caught off guard."
   ]
  },
  {
   "cell_type": "markdown",
   "metadata": {},
   "source": [
    "## The Potential Solution\n",
    "\n",
    "Being on the attacking side will increase chances of winning battles as the defending army is caught off guard and is ill prepared for a victory."
   ]
  },
  {
   "cell_type": "markdown",
   "metadata": {},
   "source": [
    "## The method of testing the solution\n",
    "\n",
    "Battle Scientists will study all army's with soldiers of 5000 to 10,000 of 1 years (Year 299 to Year 300). Army's will be randomly selected as 'attackers' or 'defenders' matched together with army's of similiar size. The variable of interest is victory of 'attackers' and 'defenders'.\n",
    "\n",
    "We will compute victory rate for the previous year before the study (Year 298 to 299) and compare it to victory rate in 'attackers' and 'defenders' for the year during the study.\n",
    "\n",
    "If victory for attackers in the year of study increases by 20% then we can conclude that being the 'attacker' is effective and plan more attacks rather than stay at dragonstone and defend the land. If victory in the year of study decreases by less than one standard deviation, observe for another 2 months. If victories do not increase, then go back to dragonstone and continue to defend."
   ]
  }
 ],
 "metadata": {
  "kernelspec": {
   "display_name": "Python 3",
   "language": "python",
   "name": "python3"
  },
  "language_info": {
   "codemirror_mode": {
    "name": "ipython",
    "version": 3
   },
   "file_extension": ".py",
   "mimetype": "text/x-python",
   "name": "python",
   "nbconvert_exporter": "python",
   "pygments_lexer": "ipython3",
   "version": "3.6.3"
  }
 },
 "nbformat": 4,
 "nbformat_minor": 2
}
